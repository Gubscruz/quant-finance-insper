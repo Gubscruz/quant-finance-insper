{
 "cells": [
  {
   "cell_type": "code",
   "execution_count": 1,
   "id": "f87a275c",
   "metadata": {},
   "outputs": [],
   "source": [
    "import numpy as np\n",
    "import matplotlib.pyplot as plt\n",
    "import pandas as pd "
   ]
  },
  {
   "cell_type": "code",
   "execution_count": 2,
   "id": "d83fa505",
   "metadata": {},
   "outputs": [
    {
     "data": {
      "application/vnd.microsoft.datawrangler.viewer.v0+json": {
       "columns": [
        {
         "name": "Dates",
         "rawType": "datetime64[ns]",
         "type": "datetime"
        },
        {
         "name": "Price",
         "rawType": "float64",
         "type": "float"
        },
        {
         "name": "Taxa_diaria",
         "rawType": "float64",
         "type": "float"
        }
       ],
       "ref": "9d753949-e2b7-4b13-abcc-430393b54412",
       "rows": [
        [
         "2014-01-02 00:00:00",
         "0.0005",
         "1.98363308512306e-06"
        ],
        [
         "2014-01-03 00:00:00",
         "0.0005",
         "1.98363308512306e-06"
        ],
        [
         "2014-01-06 00:00:00",
         "0.0005",
         "1.98363308512306e-06"
        ],
        [
         "2014-01-07 00:00:00",
         "0.0004",
         "1.5869854708139286e-06"
        ],
        [
         "2014-01-08 00:00:00",
         "0.0004",
         "1.5869854708139286e-06"
        ],
        [
         "2014-01-09 00:00:00",
         "0.0004",
         "1.5869854708139286e-06"
        ],
        [
         "2014-01-10 00:00:00",
         "0.0004",
         "1.5869854708139286e-06"
        ],
        [
         "2014-01-13 00:00:00",
         "0.0004",
         "1.5869854708139286e-06"
        ],
        [
         "2014-01-14 00:00:00",
         "0.0004",
         "1.5869854708139286e-06"
        ],
        [
         "2014-01-15 00:00:00",
         "0.0004",
         "1.5869854708139286e-06"
        ],
        [
         "2014-01-16 00:00:00",
         "0.0004",
         "1.5869854708139286e-06"
        ],
        [
         "2014-01-17 00:00:00",
         "0.0004",
         "1.5869854708139286e-06"
        ],
        [
         "2014-01-21 00:00:00",
         "0.0004",
         "1.5869854708139286e-06"
        ],
        [
         "2014-01-22 00:00:00",
         "0.0004",
         "1.5869854708139286e-06"
        ],
        [
         "2014-01-23 00:00:00",
         "0.0004",
         "1.5869854708139286e-06"
        ],
        [
         "2014-01-24 00:00:00",
         "0.0004",
         "1.5869854708139286e-06"
        ],
        [
         "2014-01-27 00:00:00",
         "0.0004",
         "1.5869854708139286e-06"
        ],
        [
         "2014-01-28 00:00:00",
         "0.0004",
         "1.5869854708139286e-06"
        ],
        [
         "2014-01-29 00:00:00",
         "0.0004",
         "1.5869854708139286e-06"
        ],
        [
         "2014-01-30 00:00:00",
         "0.0004",
         "1.5869854708139286e-06"
        ],
        [
         "2014-01-31 00:00:00",
         "0.0004",
         "1.5869854708139286e-06"
        ],
        [
         "2014-02-03 00:00:00",
         "0.0004",
         "1.5869854708139286e-06"
        ],
        [
         "2014-02-04 00:00:00",
         "0.0004",
         "1.5869854708139286e-06"
        ],
        [
         "2014-02-05 00:00:00",
         "0.0004",
         "1.5869854708139286e-06"
        ],
        [
         "2014-02-06 00:00:00",
         "0.0004",
         "1.5869854708139286e-06"
        ],
        [
         "2014-02-07 00:00:00",
         "0.0003",
         "1.1902983632072761e-06"
        ],
        [
         "2014-02-10 00:00:00",
         "0.0004",
         "1.5869854708139286e-06"
        ],
        [
         "2014-02-11 00:00:00",
         "0.0003",
         "1.1902983632072761e-06"
        ],
        [
         "2014-02-12 00:00:00",
         "0.0004",
         "1.5869854708139286e-06"
        ],
        [
         "2014-02-13 00:00:00",
         "0.0003",
         "1.1902983632072761e-06"
        ],
        [
         "2014-02-14 00:00:00",
         "0.0003",
         "1.1902983632072761e-06"
        ],
        [
         "2014-02-18 00:00:00",
         "0.0004",
         "1.5869854708139286e-06"
        ],
        [
         "2014-02-19 00:00:00",
         "0.0004",
         "1.5869854708139286e-06"
        ],
        [
         "2014-02-20 00:00:00",
         "0.0004",
         "1.5869854708139286e-06"
        ],
        [
         "2014-02-21 00:00:00",
         "0.0004",
         "1.5869854708139286e-06"
        ],
        [
         "2014-02-24 00:00:00",
         "0.0004",
         "1.5869854708139286e-06"
        ],
        [
         "2014-02-25 00:00:00",
         "0.0004",
         "1.5869854708139286e-06"
        ],
        [
         "2014-02-26 00:00:00",
         "0.0004",
         "1.5869854708139286e-06"
        ],
        [
         "2014-02-27 00:00:00",
         "0.0004",
         "1.5869854708139286e-06"
        ],
        [
         "2014-02-28 00:00:00",
         "0.0003",
         "1.1902983632072761e-06"
        ],
        [
         "2014-03-03 00:00:00",
         "0.0004",
         "1.5869854708139286e-06"
        ],
        [
         "2014-03-04 00:00:00",
         "0.0004",
         "1.5869854708139286e-06"
        ],
        [
         "2014-03-05 00:00:00",
         "0.0005",
         "1.98363308512306e-06"
        ],
        [
         "2014-03-06 00:00:00",
         "0.0005",
         "1.98363308512306e-06"
        ],
        [
         "2014-03-07 00:00:00",
         "0.0005",
         "1.98363308512306e-06"
        ],
        [
         "2014-03-10 00:00:00",
         "0.0005",
         "1.98363308512306e-06"
        ],
        [
         "2014-03-11 00:00:00",
         "0.0005",
         "1.98363308512306e-06"
        ],
        [
         "2014-03-12 00:00:00",
         "0.0005",
         "1.98363308512306e-06"
        ],
        [
         "2014-03-13 00:00:00",
         "0.0005",
         "1.98363308512306e-06"
        ],
        [
         "2014-03-14 00:00:00",
         "0.0005",
         "1.98363308512306e-06"
        ]
       ],
       "shape": {
        "columns": 2,
        "rows": 2919
       }
      },
      "text/html": [
       "<div>\n",
       "<style scoped>\n",
       "    .dataframe tbody tr th:only-of-type {\n",
       "        vertical-align: middle;\n",
       "    }\n",
       "\n",
       "    .dataframe tbody tr th {\n",
       "        vertical-align: top;\n",
       "    }\n",
       "\n",
       "    .dataframe thead th {\n",
       "        text-align: right;\n",
       "    }\n",
       "</style>\n",
       "<table border=\"1\" class=\"dataframe\">\n",
       "  <thead>\n",
       "    <tr style=\"text-align: right;\">\n",
       "      <th></th>\n",
       "      <th>Price</th>\n",
       "      <th>Taxa_diaria</th>\n",
       "    </tr>\n",
       "    <tr>\n",
       "      <th>Dates</th>\n",
       "      <th></th>\n",
       "      <th></th>\n",
       "    </tr>\n",
       "  </thead>\n",
       "  <tbody>\n",
       "    <tr>\n",
       "      <th>2014-01-02</th>\n",
       "      <td>0.0005</td>\n",
       "      <td>0.000002</td>\n",
       "    </tr>\n",
       "    <tr>\n",
       "      <th>2014-01-03</th>\n",
       "      <td>0.0005</td>\n",
       "      <td>0.000002</td>\n",
       "    </tr>\n",
       "    <tr>\n",
       "      <th>2014-01-06</th>\n",
       "      <td>0.0005</td>\n",
       "      <td>0.000002</td>\n",
       "    </tr>\n",
       "    <tr>\n",
       "      <th>2014-01-07</th>\n",
       "      <td>0.0004</td>\n",
       "      <td>0.000002</td>\n",
       "    </tr>\n",
       "    <tr>\n",
       "      <th>2014-01-08</th>\n",
       "      <td>0.0004</td>\n",
       "      <td>0.000002</td>\n",
       "    </tr>\n",
       "    <tr>\n",
       "      <th>...</th>\n",
       "      <td>...</td>\n",
       "      <td>...</td>\n",
       "    </tr>\n",
       "    <tr>\n",
       "      <th>2025-07-28</th>\n",
       "      <td>0.0436</td>\n",
       "      <td>0.000169</td>\n",
       "    </tr>\n",
       "    <tr>\n",
       "      <th>2025-07-29</th>\n",
       "      <td>0.0436</td>\n",
       "      <td>0.000169</td>\n",
       "    </tr>\n",
       "    <tr>\n",
       "      <th>2025-07-30</th>\n",
       "      <td>0.0432</td>\n",
       "      <td>0.000168</td>\n",
       "    </tr>\n",
       "    <tr>\n",
       "      <th>2025-07-31</th>\n",
       "      <td>0.0439</td>\n",
       "      <td>0.000171</td>\n",
       "    </tr>\n",
       "    <tr>\n",
       "      <th>2025-08-01</th>\n",
       "      <td>0.0434</td>\n",
       "      <td>0.000169</td>\n",
       "    </tr>\n",
       "  </tbody>\n",
       "</table>\n",
       "<p>2919 rows × 2 columns</p>\n",
       "</div>"
      ],
      "text/plain": [
       "             Price  Taxa_diaria\n",
       "Dates                          \n",
       "2014-01-02  0.0005     0.000002\n",
       "2014-01-03  0.0005     0.000002\n",
       "2014-01-06  0.0005     0.000002\n",
       "2014-01-07  0.0004     0.000002\n",
       "2014-01-08  0.0004     0.000002\n",
       "...            ...          ...\n",
       "2025-07-28  0.0436     0.000169\n",
       "2025-07-29  0.0436     0.000169\n",
       "2025-07-30  0.0432     0.000168\n",
       "2025-07-31  0.0439     0.000171\n",
       "2025-08-01  0.0434     0.000169\n",
       "\n",
       "[2919 rows x 2 columns]"
      ]
     },
     "execution_count": 2,
     "metadata": {},
     "output_type": "execute_result"
    }
   ],
   "source": [
    "spx_path = \"data/SPX_database_2010.xlsx\"\n",
    "df_tri = pd.read_excel(spx_path, sheet_name=\"total_ret\").set_index(\"Dates\")\n",
    "\n",
    "df_sofr = pd.read_excel(\"./data/sofr.xlsx\")\n",
    "df_sofr.rename(columns={\"Data\": \"Dates\"}, inplace=True)\n",
    "df_sofr[\"Dates\"] = pd.to_datetime(df_sofr[\"Dates\"]) \n",
    "df_sofr = df_sofr.set_index(\"Dates\").sort_index()\n",
    "df_sofr[\"Taxa_diaria\"] = ((1 + df_sofr[\"Price\"]) ** (1/252)) -1\n",
    "df_sofr"
   ]
  },
  {
   "cell_type": "code",
   "execution_count": 3,
   "id": "63d225ca",
   "metadata": {},
   "outputs": [
    {
     "name": "stderr",
     "output_type": "stream",
     "text": [
      "/var/folders/pm/ps47mfm943x_nqjshcjsk5ch0000gn/T/ipykernel_47562/850101438.py:4: FutureWarning: The default fill_method='pad' in DataFrame.pct_change is deprecated and will be removed in a future version. Either fill in any non-leading NA values prior to calling pct_change or specify 'fill_method=None' to not fill NA values.\n",
      "  returns = prices.pct_change()\n"
     ]
    }
   ],
   "source": [
    "# df_tri = df_tri[(df_tri.index.year >= 2000)]\n",
    "df_sofr = df_sofr[(df_sofr.index.year >= 2000) ]\n",
    "prices = df_tri.copy()\n",
    "returns = prices.pct_change()"
   ]
  },
  {
   "cell_type": "code",
   "execution_count": 4,
   "id": "8d49622e",
   "metadata": {},
   "outputs": [
    {
     "data": {
      "text/plain": [
       "['MSI UN Equity.1',\n",
       " 'K UN Equity.1',\n",
       " 'GRMN UN Equity',\n",
       " 'SW UN Equity.1',\n",
       " 'AVGO UW Equity.1']"
      ]
     },
     "execution_count": 4,
     "metadata": {},
     "output_type": "execute_result"
    }
   ],
   "source": [
    "def _choose_30(tri_df, random_state=42):\n",
    "    eligible = sorted(list(map(str, tri_df.columns)))\n",
    "    rng = np.random.default_rng(random_state)\n",
    "    chosen = rng.choice(eligible, size=min(30, len(eligible)), replace=False)\n",
    "    return list(map(str, chosen))\n",
    "\n",
    "tickers_30 = _choose_30(prices)\n",
    "tickers_30[:5]"
   ]
  },
  {
   "cell_type": "code",
   "execution_count": null,
   "id": "a6c5b17a",
   "metadata": {},
   "outputs": [],
   "source": [
    "prices = prices[tickers_30]\n",
    "returns = returns[tickers_30]\n",
    "prices = df_tri.copy()\n",
    "prices.index = pd.to_datetime(prices.index)\n",
    "prices = prices.select_dtypes(include=[np.number]).dropna(how=\"all\", axis=1)"
   ]
  },
  {
   "cell_type": "code",
   "execution_count": null,
   "id": "8d495323",
   "metadata": {},
   "outputs": [],
   "source": []
  }
 ],
 "metadata": {
  "kernelspec": {
   "display_name": "Python 3",
   "language": "python",
   "name": "python3"
  },
  "language_info": {
   "codemirror_mode": {
    "name": "ipython",
    "version": 3
   },
   "file_extension": ".py",
   "mimetype": "text/x-python",
   "name": "python",
   "nbconvert_exporter": "python",
   "pygments_lexer": "ipython3",
   "version": "3.10.18"
  }
 },
 "nbformat": 4,
 "nbformat_minor": 5
}
