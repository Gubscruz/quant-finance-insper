{
 "cells": [
  {
   "cell_type": "code",
   "execution_count": 82,
   "metadata": {},
   "outputs": [],
   "source": [
    "import numpy as np\n",
    "import matplotlib.pyplot as plt\n",
    "import pandas as pd "
   ]
  },
  {
   "cell_type": "code",
   "execution_count": 83,
   "metadata": {},
   "outputs": [
    {
     "data": {
      "application/vnd.microsoft.datawrangler.viewer.v0+json": {
       "columns": [
        {
         "name": "Dates",
         "rawType": "datetime64[ns]",
         "type": "datetime"
        },
        {
         "name": "Price",
         "rawType": "float64",
         "type": "float"
        },
        {
         "name": "Taxa_diaria",
         "rawType": "float64",
         "type": "float"
        }
       ],
       "ref": "f92692ef-d42a-4a27-b967-676a0c09792d",
       "rows": [
        [
         "2014-01-02 00:00:00",
         "0.0005",
         "1.98363308512306e-06"
        ],
        [
         "2014-01-03 00:00:00",
         "0.0005",
         "1.98363308512306e-06"
        ],
        [
         "2014-01-06 00:00:00",
         "0.0005",
         "1.98363308512306e-06"
        ],
        [
         "2014-01-07 00:00:00",
         "0.0004",
         "1.5869854708139286e-06"
        ],
        [
         "2014-01-08 00:00:00",
         "0.0004",
         "1.5869854708139286e-06"
        ],
        [
         "2014-01-09 00:00:00",
         "0.0004",
         "1.5869854708139286e-06"
        ],
        [
         "2014-01-10 00:00:00",
         "0.0004",
         "1.5869854708139286e-06"
        ],
        [
         "2014-01-13 00:00:00",
         "0.0004",
         "1.5869854708139286e-06"
        ],
        [
         "2014-01-14 00:00:00",
         "0.0004",
         "1.5869854708139286e-06"
        ],
        [
         "2014-01-15 00:00:00",
         "0.0004",
         "1.5869854708139286e-06"
        ],
        [
         "2014-01-16 00:00:00",
         "0.0004",
         "1.5869854708139286e-06"
        ],
        [
         "2014-01-17 00:00:00",
         "0.0004",
         "1.5869854708139286e-06"
        ],
        [
         "2014-01-21 00:00:00",
         "0.0004",
         "1.5869854708139286e-06"
        ],
        [
         "2014-01-22 00:00:00",
         "0.0004",
         "1.5869854708139286e-06"
        ],
        [
         "2014-01-23 00:00:00",
         "0.0004",
         "1.5869854708139286e-06"
        ],
        [
         "2014-01-24 00:00:00",
         "0.0004",
         "1.5869854708139286e-06"
        ],
        [
         "2014-01-27 00:00:00",
         "0.0004",
         "1.5869854708139286e-06"
        ],
        [
         "2014-01-28 00:00:00",
         "0.0004",
         "1.5869854708139286e-06"
        ],
        [
         "2014-01-29 00:00:00",
         "0.0004",
         "1.5869854708139286e-06"
        ],
        [
         "2014-01-30 00:00:00",
         "0.0004",
         "1.5869854708139286e-06"
        ],
        [
         "2014-01-31 00:00:00",
         "0.0004",
         "1.5869854708139286e-06"
        ],
        [
         "2014-02-03 00:00:00",
         "0.0004",
         "1.5869854708139286e-06"
        ],
        [
         "2014-02-04 00:00:00",
         "0.0004",
         "1.5869854708139286e-06"
        ],
        [
         "2014-02-05 00:00:00",
         "0.0004",
         "1.5869854708139286e-06"
        ],
        [
         "2014-02-06 00:00:00",
         "0.0004",
         "1.5869854708139286e-06"
        ],
        [
         "2014-02-07 00:00:00",
         "0.0003",
         "1.1902983632072761e-06"
        ],
        [
         "2014-02-10 00:00:00",
         "0.0004",
         "1.5869854708139286e-06"
        ],
        [
         "2014-02-11 00:00:00",
         "0.0003",
         "1.1902983632072761e-06"
        ],
        [
         "2014-02-12 00:00:00",
         "0.0004",
         "1.5869854708139286e-06"
        ],
        [
         "2014-02-13 00:00:00",
         "0.0003",
         "1.1902983632072761e-06"
        ],
        [
         "2014-02-14 00:00:00",
         "0.0003",
         "1.1902983632072761e-06"
        ],
        [
         "2014-02-18 00:00:00",
         "0.0004",
         "1.5869854708139286e-06"
        ],
        [
         "2014-02-19 00:00:00",
         "0.0004",
         "1.5869854708139286e-06"
        ],
        [
         "2014-02-20 00:00:00",
         "0.0004",
         "1.5869854708139286e-06"
        ],
        [
         "2014-02-21 00:00:00",
         "0.0004",
         "1.5869854708139286e-06"
        ],
        [
         "2014-02-24 00:00:00",
         "0.0004",
         "1.5869854708139286e-06"
        ],
        [
         "2014-02-25 00:00:00",
         "0.0004",
         "1.5869854708139286e-06"
        ],
        [
         "2014-02-26 00:00:00",
         "0.0004",
         "1.5869854708139286e-06"
        ],
        [
         "2014-02-27 00:00:00",
         "0.0004",
         "1.5869854708139286e-06"
        ],
        [
         "2014-02-28 00:00:00",
         "0.0003",
         "1.1902983632072761e-06"
        ],
        [
         "2014-03-03 00:00:00",
         "0.0004",
         "1.5869854708139286e-06"
        ],
        [
         "2014-03-04 00:00:00",
         "0.0004",
         "1.5869854708139286e-06"
        ],
        [
         "2014-03-05 00:00:00",
         "0.0005",
         "1.98363308512306e-06"
        ],
        [
         "2014-03-06 00:00:00",
         "0.0005",
         "1.98363308512306e-06"
        ],
        [
         "2014-03-07 00:00:00",
         "0.0005",
         "1.98363308512306e-06"
        ],
        [
         "2014-03-10 00:00:00",
         "0.0005",
         "1.98363308512306e-06"
        ],
        [
         "2014-03-11 00:00:00",
         "0.0005",
         "1.98363308512306e-06"
        ],
        [
         "2014-03-12 00:00:00",
         "0.0005",
         "1.98363308512306e-06"
        ],
        [
         "2014-03-13 00:00:00",
         "0.0005",
         "1.98363308512306e-06"
        ],
        [
         "2014-03-14 00:00:00",
         "0.0005",
         "1.98363308512306e-06"
        ]
       ],
       "shape": {
        "columns": 2,
        "rows": 2919
       }
      },
      "text/html": [
       "<div>\n",
       "<style scoped>\n",
       "    .dataframe tbody tr th:only-of-type {\n",
       "        vertical-align: middle;\n",
       "    }\n",
       "\n",
       "    .dataframe tbody tr th {\n",
       "        vertical-align: top;\n",
       "    }\n",
       "\n",
       "    .dataframe thead th {\n",
       "        text-align: right;\n",
       "    }\n",
       "</style>\n",
       "<table border=\"1\" class=\"dataframe\">\n",
       "  <thead>\n",
       "    <tr style=\"text-align: right;\">\n",
       "      <th></th>\n",
       "      <th>Price</th>\n",
       "      <th>Taxa_diaria</th>\n",
       "    </tr>\n",
       "    <tr>\n",
       "      <th>Dates</th>\n",
       "      <th></th>\n",
       "      <th></th>\n",
       "    </tr>\n",
       "  </thead>\n",
       "  <tbody>\n",
       "    <tr>\n",
       "      <th>2014-01-02</th>\n",
       "      <td>0.0005</td>\n",
       "      <td>0.000002</td>\n",
       "    </tr>\n",
       "    <tr>\n",
       "      <th>2014-01-03</th>\n",
       "      <td>0.0005</td>\n",
       "      <td>0.000002</td>\n",
       "    </tr>\n",
       "    <tr>\n",
       "      <th>2014-01-06</th>\n",
       "      <td>0.0005</td>\n",
       "      <td>0.000002</td>\n",
       "    </tr>\n",
       "    <tr>\n",
       "      <th>2014-01-07</th>\n",
       "      <td>0.0004</td>\n",
       "      <td>0.000002</td>\n",
       "    </tr>\n",
       "    <tr>\n",
       "      <th>2014-01-08</th>\n",
       "      <td>0.0004</td>\n",
       "      <td>0.000002</td>\n",
       "    </tr>\n",
       "    <tr>\n",
       "      <th>...</th>\n",
       "      <td>...</td>\n",
       "      <td>...</td>\n",
       "    </tr>\n",
       "    <tr>\n",
       "      <th>2025-07-28</th>\n",
       "      <td>0.0436</td>\n",
       "      <td>0.000169</td>\n",
       "    </tr>\n",
       "    <tr>\n",
       "      <th>2025-07-29</th>\n",
       "      <td>0.0436</td>\n",
       "      <td>0.000169</td>\n",
       "    </tr>\n",
       "    <tr>\n",
       "      <th>2025-07-30</th>\n",
       "      <td>0.0432</td>\n",
       "      <td>0.000168</td>\n",
       "    </tr>\n",
       "    <tr>\n",
       "      <th>2025-07-31</th>\n",
       "      <td>0.0439</td>\n",
       "      <td>0.000171</td>\n",
       "    </tr>\n",
       "    <tr>\n",
       "      <th>2025-08-01</th>\n",
       "      <td>0.0434</td>\n",
       "      <td>0.000169</td>\n",
       "    </tr>\n",
       "  </tbody>\n",
       "</table>\n",
       "<p>2919 rows × 2 columns</p>\n",
       "</div>"
      ],
      "text/plain": [
       "             Price  Taxa_diaria\n",
       "Dates                          \n",
       "2014-01-02  0.0005     0.000002\n",
       "2014-01-03  0.0005     0.000002\n",
       "2014-01-06  0.0005     0.000002\n",
       "2014-01-07  0.0004     0.000002\n",
       "2014-01-08  0.0004     0.000002\n",
       "...            ...          ...\n",
       "2025-07-28  0.0436     0.000169\n",
       "2025-07-29  0.0436     0.000169\n",
       "2025-07-30  0.0432     0.000168\n",
       "2025-07-31  0.0439     0.000171\n",
       "2025-08-01  0.0434     0.000169\n",
       "\n",
       "[2919 rows x 2 columns]"
      ]
     },
     "execution_count": 83,
     "metadata": {},
     "output_type": "execute_result"
    }
   ],
   "source": [
    "spx_path = \"data/SPX_database_2010.xlsx\"\n",
    "df_tri = pd.read_excel(spx_path, sheet_name=\"total_ret\").set_index(\"Dates\")\n",
    "\n",
    "df_sofr = pd.read_excel(\"./data/sofr.xlsx\")\n",
    "df_sofr.rename(columns={\"Data\": \"Dates\"}, inplace=True)\n",
    "df_sofr[\"Dates\"] = pd.to_datetime(df_sofr[\"Dates\"]) \n",
    "df_sofr = df_sofr.set_index(\"Dates\").sort_index()\n",
    "df_sofr[\"Taxa_diaria\"] = ((1 + df_sofr[\"Price\"]) ** (1/252)) -1\n",
    "df_sofr"
   ]
  },
  {
   "cell_type": "code",
   "execution_count": 84,
   "metadata": {},
   "outputs": [
    {
     "name": "stderr",
     "output_type": "stream",
     "text": [
      "/var/folders/pm/ps47mfm943x_nqjshcjsk5ch0000gn/T/ipykernel_21951/850101438.py:4: FutureWarning: The default fill_method='pad' in DataFrame.pct_change is deprecated and will be removed in a future version. Either fill in any non-leading NA values prior to calling pct_change or specify 'fill_method=None' to not fill NA values.\n",
      "  returns = prices.pct_change()\n"
     ]
    }
   ],
   "source": [
    "# df_tri = df_tri[(df_tri.index.year >= 2000)]\n",
    "df_sofr = df_sofr[(df_sofr.index.year >= 2000) ]\n",
    "prices = df_tri.copy()\n",
    "returns = prices.pct_change()"
   ]
  },
  {
   "cell_type": "code",
   "execution_count": 85,
   "metadata": {},
   "outputs": [
    {
     "data": {
      "text/plain": [
       "['MSI UN Equity.1',\n",
       " 'K UN Equity.1',\n",
       " 'GRMN UN Equity',\n",
       " 'SW UN Equity.1',\n",
       " 'AVGO UW Equity.1']"
      ]
     },
     "execution_count": 85,
     "metadata": {},
     "output_type": "execute_result"
    }
   ],
   "source": [
    "def _choose_30(tri_df, random_state=42):\n",
    "    eligible = sorted(list(map(str, tri_df.columns)))\n",
    "    rng = np.random.default_rng(random_state)\n",
    "    chosen = rng.choice(eligible, size=min(30, len(eligible)), replace=False)\n",
    "    return list(map(str, chosen))\n",
    "\n",
    "tickers_30 = _choose_30(prices)\n",
    "tickers_30[:5]"
   ]
  },
  {
   "cell_type": "code",
   "execution_count": 86,
   "metadata": {},
   "outputs": [],
   "source": [
    "prices = prices[tickers_30]\n",
    "returns = returns[tickers_30]\n",
    "prices = df_tri.copy()\n",
    "prices.index = pd.to_datetime(prices.index)\n",
    "prices = prices.select_dtypes(include=[np.number]).dropna(how=\"all\", axis=1)"
   ]
  },
  {
   "cell_type": "code",
   "execution_count": 87,
   "metadata": {},
   "outputs": [],
   "source": [
    "def cross_sectional_momentum(prices, lookback=252, skip=21, holding=60, top_k=10):\n",
    "    returns = prices.pct_change()\n",
    "    portfolio = []\n",
    "\n",
    "\t# rebalance loop\n",
    "    for t in range(lookback + skip, len(prices) - holding, holding):\n",
    "        p_end = prices.iloc[t - skip]\n",
    "        p_start = prices.iloc[t - skip - lookback]\n",
    "        score = (p_end / p_start - 1).dropna() # momentum signal\n",
    "\n",
    "        k = min(top_k, len(score)//2)\n",
    "\n",
    "        winners = score.nlargest(k).index\n",
    "        losers = score.nsmallest(k).index\n",
    "        cols = winners.union(losers)\n",
    "\n",
    "\t\t# half of notional in longs (for winners) and half in shorts (for losers)\n",
    "        w = pd.Series(0.0, index=prices.columns)\n",
    "        w.loc[winners] = +0.5 / len(winners)\n",
    "        w.loc[losers] = -0.5 / len(losers)\n",
    "\n",
    "\t\t# portfolio returns = daily rets * weights\n",
    "        window = returns.iloc[t+1 : t+1+holding][cols].dropna(axis=1, how=\"any\")\n",
    "        port_returns = window.dot(w.loc[window.columns])\n",
    "        portfolio.append(port_returns)\n",
    "\n",
    "    cs_rets = pd.concat(portfolio)\n",
    "    cs_rets.name = \"CS\"\n",
    "    return cs_rets"
   ]
  },
  {
   "cell_type": "code",
   "execution_count": 88,
   "metadata": {},
   "outputs": [],
   "source": [
    "def time_series_momentum(prices, lookback=252, skip=21, holding=60):\n",
    "    returns = prices.pct_change()\n",
    "    portfolio = []\n",
    "    \n",
    "    for t in range(lookback + skip, len(prices) - holding, holding):\n",
    "        p_end   = prices.iloc[t - skip]\n",
    "        p_start = prices.iloc[t - skip - lookback]\n",
    "        score = (p_end / p_start - 1).dropna()\n",
    "\n",
    "        signal = np.sign(score) # +1, -1 or 0 depending on momentum\n",
    "        active = signal[signal != 0]\n",
    "\n",
    "        w = active / len(active) # 1/N weights for active assets\n",
    "        window = returns.iloc[t+1 : t+1+holding][w.index].dropna(axis=1, how=\"any\")\n",
    "\n",
    "\t\t# normalize so that sum of abs(weights) = 1\n",
    "        w2 = w.loc[window.columns]\n",
    "        w2 = w2 / w2.abs().sum()\n",
    "\n",
    "        port_returns = window.dot(w2)\n",
    "        port_returns.name = \"TS\"\n",
    "        portfolio.append(port_returns)\n",
    "\n",
    "    ts_rets = pd.concat(portfolio)\n",
    "    ts_rets.name = \"TS\"\n",
    "    return ts_rets"
   ]
  },
  {
   "cell_type": "code",
   "execution_count": 89,
   "metadata": {},
   "outputs": [
    {
     "name": "stdout",
     "output_type": "stream",
     "text": [
      "                CS      TS\n",
      "Ann.Return  0.0353  0.0440\n",
      "Ann.Vol     0.2044  0.1126\n",
      "Sharpe      0.1726  0.3910\n"
     ]
    },
    {
     "data": {
      "image/png": "[encoded data removed]",
      "text/plain": [
       "<Figure size 900x400 with 1 Axes>"
      ]
     },
     "metadata": {},
     "output_type": "display_data"
    }
   ],
   "source": [
    "cs_ret = cross_sectional_momentum(prices, lookback=252, skip=21, holding=60, top_k=10)\n",
    "ts_ret = time_series_momentum(prices, lookback=252, skip=21, holding=60)\n",
    "\n",
    "def equity(ret): \n",
    "    return (1 + ret).cumprod()\n",
    "\n",
    "def stats(ret):\n",
    "    mu = ret.mean() * 252\n",
    "    vol = ret.std(ddof=0) * np.sqrt(252)\n",
    "    sharpe = mu / vol if vol > 0 else np.nan\n",
    "    return pd.Series({\"Ann.Return\": mu, \"Ann.Vol\": vol, \"Sharpe\": sharpe})\n",
    "\n",
    "eq_cs = equity(cs_ret)\n",
    "eq_ts = equity(ts_ret)\n",
    "\n",
    "print(pd.concat({\"CS\": stats(cs_ret), \"TS\": stats(ts_ret)}, axis=1).round(4))\n",
    "\n",
    "ax = eq_cs.plot(figsize=(9,4), title=\"Momentum equity curves\")\n",
    "eq_ts.plot(ax=ax)\n",
    "plt.legend([\"Cross-Sectional\", \"Time-Series\"])\n",
    "plt.tight_layout()\n",
    "plt.show()"
   ]
  },
  {
   "cell_type": "code",
   "execution_count": 90,
   "metadata": {},
   "outputs": [],
   "source": [
    "def to_monthly(ret_daily: pd.Series) -> pd.Series:\n",
    "    return ret_daily.groupby(pd.Grouper(freq=\"ME\")).apply(lambda x: (1.0 + x).prod() - 1.0)\n",
    "\n",
    "def t_stat(x: pd.Series) -> float:\n",
    "    x = x.dropna()\n",
    "    if len(x) < 3:\n",
    "        return np.nan\n",
    "    mu = x.mean()\n",
    "    se = x.std(ddof=1) / np.sqrt(len(x))\n",
    "    return mu / se if se > 0 else np.nan\n",
    "\n",
    "def days(m):\n",
    "    return int(round(m * 21))"
   ]
  },
  {
   "cell_type": "code",
   "execution_count": 91,
   "metadata": {},
   "outputs": [],
   "source": [
    "def tstat_grid_TS(prices, lookbacks_m, holdings_m, skip_m=1):\n",
    "    tbl = pd.DataFrame(index=lookbacks_m, columns=holdings_m, dtype=float)\n",
    "    for L in lookbacks_m:\n",
    "        for H in holdings_m:\n",
    "            ts = time_series_momentum(\n",
    "                prices,\n",
    "                lookback=days(L),\n",
    "                skip=days(skip_m),\n",
    "                holding=days(H),\n",
    "            )\n",
    "            ts_m = to_monthly(ts)\n",
    "            tbl.loc[L, H] = t_stat(ts_m)\n",
    "    tbl.index.name = \"Lookback (m)\"\n",
    "    tbl.columns.name = \"Holding (m)\"\n",
    "    return tbl\n",
    "\n",
    "def tstat_grid_CS(prices, lookbacks_m, holdings_m, skip_m=1, top_k=10):\n",
    "    tbl = pd.DataFrame(index=lookbacks_m, columns=holdings_m, dtype=float)\n",
    "    for L in lookbacks_m:\n",
    "        for H in holdings_m:\n",
    "            cs = cross_sectional_momentum(\n",
    "                prices,\n",
    "                lookback=days(L),\n",
    "                skip=days(skip_m),\n",
    "                holding=days(H),\n",
    "                top_k=top_k,\n",
    "            )\n",
    "            cs_m = to_monthly(cs)\n",
    "            tbl.loc[L, H] = t_stat(cs_m)\n",
    "    tbl.index.name = \"Lookback (m)\"\n",
    "    tbl.columns.name = \"Holding (m)\"\n",
    "    return tbl"
   ]
  },
  {
   "cell_type": "code",
   "execution_count": 92,
   "metadata": {},
   "outputs": [
    {
     "name": "stdout",
     "output_type": "stream",
     "text": [
      "TS Momentum — t-stats (lookback x holding)\n"
     ]
    },
    {
     "data": {
      "application/vnd.microsoft.datawrangler.viewer.v0+json": {
       "columns": [
        {
         "name": "Lookback (m)",
         "rawType": "int64",
         "type": "integer"
        },
        {
         "name": "1",
         "rawType": "float64",
         "type": "float"
        },
        {
         "name": "3",
         "rawType": "float64",
         "type": "float"
        },
        {
         "name": "6",
         "rawType": "float64",
         "type": "float"
        },
        {
         "name": "9",
         "rawType": "float64",
         "type": "float"
        },
        {
         "name": "12",
         "rawType": "float64",
         "type": "float"
        },
        {
         "name": "24",
         "rawType": "float64",
         "type": "float"
        },
        {
         "name": "36",
         "rawType": "float64",
         "type": "float"
        },
        {
         "name": "48",
         "rawType": "float64",
         "type": "float"
        }
       ],
       "ref": "bf448f3c-5871-4509-a6fa-fb2189b6575d",
       "rows": [
        [
         "1",
         "0.87",
         "1.95",
         "0.61",
         "0.45",
         "0.65",
         "2.43",
         "-0.76",
         "1.07"
        ],
        [
         "3",
         "0.69",
         "0.79",
         "-0.06",
         "0.07",
         "1.28",
         "2.08",
         "-0.15",
         "3.65"
        ],
        [
         "6",
         "1.44",
         "1.89",
         "4.38",
         "2.27",
         "5.32",
         "3.45",
         "2.29",
         "3.35"
        ],
        [
         "9",
         "2.4",
         "2.31",
         "1.19",
         "3.95",
         "2.42",
         "2.36",
         "3.19",
         "3.83"
        ],
        [
         "12",
         "2.63",
         "2.67",
         "4.51",
         "2.21",
         "3.4",
         "3.16",
         "2.91",
         "4.26"
        ],
        [
         "24",
         "3.16",
         "3.24",
         "3.88",
         "3.61",
         "3.46",
         "3.63",
         "3.49",
         "4.19"
        ],
        [
         "36",
         "3.27",
         "3.44",
         "3.86",
         "3.59",
         "3.82",
         "3.54",
         "3.76",
         "3.92"
        ],
        [
         "48",
         "3.21",
         "3.31",
         "3.81",
         "3.49",
         "3.8",
         "3.67",
         "3.67",
         "3.6"
        ]
       ],
       "shape": {
        "columns": 8,
        "rows": 8
       }
      },
      "text/html": [
       "<div>\n",
       "<style scoped>\n",
       "    .dataframe tbody tr th:only-of-type {\n",
       "        vertical-align: middle;\n",
       "    }\n",
       "\n",
       "    .dataframe tbody tr th {\n",
       "        vertical-align: top;\n",
       "    }\n",
       "\n",
       "    .dataframe thead th {\n",
       "        text-align: right;\n",
       "    }\n",
       "</style>\n",
       "<table border=\"1\" class=\"dataframe\">\n",
       "  <thead>\n",
       "    <tr style=\"text-align: right;\">\n",
       "      <th>Holding (m)</th>\n",
       "      <th>1</th>\n",
       "      <th>3</th>\n",
       "      <th>6</th>\n",
       "      <th>9</th>\n",
       "      <th>12</th>\n",
       "      <th>24</th>\n",
       "      <th>36</th>\n",
       "      <th>48</th>\n",
       "    </tr>\n",
       "    <tr>\n",
       "      <th>Lookback (m)</th>\n",
       "      <th></th>\n",
       "      <th></th>\n",
       "      <th></th>\n",
       "      <th></th>\n",
       "      <th></th>\n",
       "      <th></th>\n",
       "      <th></th>\n",
       "      <th></th>\n",
       "    </tr>\n",
       "  </thead>\n",
       "  <tbody>\n",
       "    <tr>\n",
       "      <th>1</th>\n",
       "      <td>0.87</td>\n",
       "      <td>1.95</td>\n",
       "      <td>0.61</td>\n",
       "      <td>0.45</td>\n",
       "      <td>0.65</td>\n",
       "      <td>2.43</td>\n",
       "      <td>-0.76</td>\n",
       "      <td>1.07</td>\n",
       "    </tr>\n",
       "    <tr>\n",
       "      <th>3</th>\n",
       "      <td>0.69</td>\n",
       "      <td>0.79</td>\n",
       "      <td>-0.06</td>\n",
       "      <td>0.07</td>\n",
       "      <td>1.28</td>\n",
       "      <td>2.08</td>\n",
       "      <td>-0.15</td>\n",
       "      <td>3.65</td>\n",
       "    </tr>\n",
       "    <tr>\n",
       "      <th>6</th>\n",
       "      <td>1.44</td>\n",
       "      <td>1.89</td>\n",
       "      <td>4.38</td>\n",
       "      <td>2.27</td>\n",
       "      <td>5.32</td>\n",
       "      <td>3.45</td>\n",
       "      <td>2.29</td>\n",
       "      <td>3.35</td>\n",
       "    </tr>\n",
       "    <tr>\n",
       "      <th>9</th>\n",
       "      <td>2.40</td>\n",
       "      <td>2.31</td>\n",
       "      <td>1.19</td>\n",
       "      <td>3.95</td>\n",
       "      <td>2.42</td>\n",
       "      <td>2.36</td>\n",
       "      <td>3.19</td>\n",
       "      <td>3.83</td>\n",
       "    </tr>\n",
       "    <tr>\n",
       "      <th>12</th>\n",
       "      <td>2.63</td>\n",
       "      <td>2.67</td>\n",
       "      <td>4.51</td>\n",
       "      <td>2.21</td>\n",
       "      <td>3.40</td>\n",
       "      <td>3.16</td>\n",
       "      <td>2.91</td>\n",
       "      <td>4.26</td>\n",
       "    </tr>\n",
       "    <tr>\n",
       "      <th>24</th>\n",
       "      <td>3.16</td>\n",
       "      <td>3.24</td>\n",
       "      <td>3.88</td>\n",
       "      <td>3.61</td>\n",
       "      <td>3.46</td>\n",
       "      <td>3.63</td>\n",
       "      <td>3.49</td>\n",
       "      <td>4.19</td>\n",
       "    </tr>\n",
       "    <tr>\n",
       "      <th>36</th>\n",
       "      <td>3.27</td>\n",
       "      <td>3.44</td>\n",
       "      <td>3.86</td>\n",
       "      <td>3.59</td>\n",
       "      <td>3.82</td>\n",
       "      <td>3.54</td>\n",
       "      <td>3.76</td>\n",
       "      <td>3.92</td>\n",
       "    </tr>\n",
       "    <tr>\n",
       "      <th>48</th>\n",
       "      <td>3.21</td>\n",
       "      <td>3.31</td>\n",
       "      <td>3.81</td>\n",
       "      <td>3.49</td>\n",
       "      <td>3.80</td>\n",
       "      <td>3.67</td>\n",
       "      <td>3.67</td>\n",
       "      <td>3.60</td>\n",
       "    </tr>\n",
       "  </tbody>\n",
       "</table>\n",
       "</div>"
      ],
      "text/plain": [
       "Holding (m)     1     3     6     9     12    24    36    48\n",
       "Lookback (m)                                                \n",
       "1             0.87  1.95  0.61  0.45  0.65  2.43 -0.76  1.07\n",
       "3             0.69  0.79 -0.06  0.07  1.28  2.08 -0.15  3.65\n",
       "6             1.44  1.89  4.38  2.27  5.32  3.45  2.29  3.35\n",
       "9             2.40  2.31  1.19  3.95  2.42  2.36  3.19  3.83\n",
       "12            2.63  2.67  4.51  2.21  3.40  3.16  2.91  4.26\n",
       "24            3.16  3.24  3.88  3.61  3.46  3.63  3.49  4.19\n",
       "36            3.27  3.44  3.86  3.59  3.82  3.54  3.76  3.92\n",
       "48            3.21  3.31  3.81  3.49  3.80  3.67  3.67  3.60"
      ]
     },
     "metadata": {},
     "output_type": "display_data"
    },
    {
     "name": "stdout",
     "output_type": "stream",
     "text": [
      "CS Momentum — t-stats (lookback x holding)\n"
     ]
    },
    {
     "data": {
      "application/vnd.microsoft.datawrangler.viewer.v0+json": {
       "columns": [
        {
         "name": "Lookback (m)",
         "rawType": "int64",
         "type": "integer"
        },
        {
         "name": "1",
         "rawType": "float64",
         "type": "float"
        },
        {
         "name": "3",
         "rawType": "float64",
         "type": "float"
        },
        {
         "name": "6",
         "rawType": "float64",
         "type": "float"
        },
        {
         "name": "9",
         "rawType": "float64",
         "type": "float"
        },
        {
         "name": "12",
         "rawType": "float64",
         "type": "float"
        },
        {
         "name": "24",
         "rawType": "float64",
         "type": "float"
        },
        {
         "name": "36",
         "rawType": "float64",
         "type": "float"
        },
        {
         "name": "48",
         "rawType": "float64",
         "type": "float"
        }
       ],
       "ref": "d6e84eea-2251-4160-9876-1cb48559353e",
       "rows": [
        [
         "1",
         "-0.31",
         "-1.1",
         "-2.21",
         "-1.51",
         "-2.49",
         "-1.56",
         "-1.67",
         "-0.06"
        ],
        [
         "3",
         "-0.04",
         "0.13",
         "-0.3",
         "-0.35",
         "0.91",
         "-0.03",
         "0.3",
         "1.01"
        ],
        [
         "6",
         "0.71",
         "0.85",
         "1.28",
         "1.03",
         "2.02",
         "0.53",
         "0.58",
         "1.59"
        ],
        [
         "9",
         "0.39",
         "0.85",
         "-0.02",
         "1.72",
         "0.48",
         "-0.2",
         "-0.67",
         "-0.36"
        ],
        [
         "12",
         "0.6",
         "1.07",
         "1.18",
         "1.56",
         "0.37",
         "-1.4",
         "-1.57",
         "-1.41"
        ],
        [
         "24",
         "0.39",
         "1.11",
         "1.11",
         "0.33",
         "0.27",
         "-0.59",
         "-0.99",
         "-1.25"
        ],
        [
         "36",
         "-0.19",
         "0.35",
         "0.6",
         "0.33",
         "0.58",
         "-0.86",
         "-0.09",
         "-0.99"
        ],
        [
         "48",
         "0.48",
         "0.47",
         "0.4",
         "-0.35",
         "0.02",
         "-0.12",
         "-0.34",
         "-0.95"
        ]
       ],
       "shape": {
        "columns": 8,
        "rows": 8
       }
      },
      "text/html": [
       "<div>\n",
       "<style scoped>\n",
       "    .dataframe tbody tr th:only-of-type {\n",
       "        vertical-align: middle;\n",
       "    }\n",
       "\n",
       "    .dataframe tbody tr th {\n",
       "        vertical-align: top;\n",
       "    }\n",
       "\n",
       "    .dataframe thead th {\n",
       "        text-align: right;\n",
       "    }\n",
       "</style>\n",
       "<table border=\"1\" class=\"dataframe\">\n",
       "  <thead>\n",
       "    <tr style=\"text-align: right;\">\n",
       "      <th>Holding (m)</th>\n",
       "      <th>1</th>\n",
       "      <th>3</th>\n",
       "      <th>6</th>\n",
       "      <th>9</th>\n",
       "      <th>12</th>\n",
       "      <th>24</th>\n",
       "      <th>36</th>\n",
       "      <th>48</th>\n",
       "    </tr>\n",
       "    <tr>\n",
       "      <th>Lookback (m)</th>\n",
       "      <th></th>\n",
       "      <th></th>\n",
       "      <th></th>\n",
       "      <th></th>\n",
       "      <th></th>\n",
       "      <th></th>\n",
       "      <th></th>\n",
       "      <th></th>\n",
       "    </tr>\n",
       "  </thead>\n",
       "  <tbody>\n",
       "    <tr>\n",
       "      <th>1</th>\n",
       "      <td>-0.31</td>\n",
       "      <td>-1.10</td>\n",
       "      <td>-2.21</td>\n",
       "      <td>-1.51</td>\n",
       "      <td>-2.49</td>\n",
       "      <td>-1.56</td>\n",
       "      <td>-1.67</td>\n",
       "      <td>-0.06</td>\n",
       "    </tr>\n",
       "    <tr>\n",
       "      <th>3</th>\n",
       "      <td>-0.04</td>\n",
       "      <td>0.13</td>\n",
       "      <td>-0.30</td>\n",
       "      <td>-0.35</td>\n",
       "      <td>0.91</td>\n",
       "      <td>-0.03</td>\n",
       "      <td>0.30</td>\n",
       "      <td>1.01</td>\n",
       "    </tr>\n",
       "    <tr>\n",
       "      <th>6</th>\n",
       "      <td>0.71</td>\n",
       "      <td>0.85</td>\n",
       "      <td>1.28</td>\n",
       "      <td>1.03</td>\n",
       "      <td>2.02</td>\n",
       "      <td>0.53</td>\n",
       "      <td>0.58</td>\n",
       "      <td>1.59</td>\n",
       "    </tr>\n",
       "    <tr>\n",
       "      <th>9</th>\n",
       "      <td>0.39</td>\n",
       "      <td>0.85</td>\n",
       "      <td>-0.02</td>\n",
       "      <td>1.72</td>\n",
       "      <td>0.48</td>\n",
       "      <td>-0.20</td>\n",
       "      <td>-0.67</td>\n",
       "      <td>-0.36</td>\n",
       "    </tr>\n",
       "    <tr>\n",
       "      <th>12</th>\n",
       "      <td>0.60</td>\n",
       "      <td>1.07</td>\n",
       "      <td>1.18</td>\n",
       "      <td>1.56</td>\n",
       "      <td>0.37</td>\n",
       "      <td>-1.40</td>\n",
       "      <td>-1.57</td>\n",
       "      <td>-1.41</td>\n",
       "    </tr>\n",
       "    <tr>\n",
       "      <th>24</th>\n",
       "      <td>0.39</td>\n",
       "      <td>1.11</td>\n",
       "      <td>1.11</td>\n",
       "      <td>0.33</td>\n",
       "      <td>0.27</td>\n",
       "      <td>-0.59</td>\n",
       "      <td>-0.99</td>\n",
       "      <td>-1.25</td>\n",
       "    </tr>\n",
       "    <tr>\n",
       "      <th>36</th>\n",
       "      <td>-0.19</td>\n",
       "      <td>0.35</td>\n",
       "      <td>0.60</td>\n",
       "      <td>0.33</td>\n",
       "      <td>0.58</td>\n",
       "      <td>-0.86</td>\n",
       "      <td>-0.09</td>\n",
       "      <td>-0.99</td>\n",
       "    </tr>\n",
       "    <tr>\n",
       "      <th>48</th>\n",
       "      <td>0.48</td>\n",
       "      <td>0.47</td>\n",
       "      <td>0.40</td>\n",
       "      <td>-0.35</td>\n",
       "      <td>0.02</td>\n",
       "      <td>-0.12</td>\n",
       "      <td>-0.34</td>\n",
       "      <td>-0.95</td>\n",
       "    </tr>\n",
       "  </tbody>\n",
       "</table>\n",
       "</div>"
      ],
      "text/plain": [
       "Holding (m)     1     3     6     9     12    24    36    48\n",
       "Lookback (m)                                                \n",
       "1            -0.31 -1.10 -2.21 -1.51 -2.49 -1.56 -1.67 -0.06\n",
       "3            -0.04  0.13 -0.30 -0.35  0.91 -0.03  0.30  1.01\n",
       "6             0.71  0.85  1.28  1.03  2.02  0.53  0.58  1.59\n",
       "9             0.39  0.85 -0.02  1.72  0.48 -0.20 -0.67 -0.36\n",
       "12            0.60  1.07  1.18  1.56  0.37 -1.40 -1.57 -1.41\n",
       "24            0.39  1.11  1.11  0.33  0.27 -0.59 -0.99 -1.25\n",
       "36           -0.19  0.35  0.60  0.33  0.58 -0.86 -0.09 -0.99\n",
       "48            0.48  0.47  0.40 -0.35  0.02 -0.12 -0.34 -0.95"
      ]
     },
     "metadata": {},
     "output_type": "display_data"
    },
    {
     "data": {
      "image/png": "[encoded data removed]",
      "text/plain": [
       "<Figure size 800x450 with 2 Axes>"
      ]
     },
     "metadata": {},
     "output_type": "display_data"
    },
    {
     "data": {
      "image/png": "[encoded data removed]",
      "text/plain": [
       "<Figure size 800x450 with 2 Axes>"
      ]
     },
     "metadata": {},
     "output_type": "display_data"
    },
    {
     "data": {
      "image/png": "[encoded data removed]",
      "text/plain": [
       "<Figure size 800x350 with 1 Axes>"
      ]
     },
     "metadata": {},
     "output_type": "display_data"
    },
    {
     "data": {
      "image/png": "[encoded data removed]",
      "text/plain": [
       "<Figure size 800x350 with 1 Axes>"
      ]
     },
     "metadata": {},
     "output_type": "display_data"
    }
   ],
   "source": [
    "def plot_heatmap(df, title):\n",
    "    fig, ax = plt.subplots(figsize=(8,4.5))\n",
    "    im = ax.imshow(df.values.astype(float), aspect=\"auto\", origin=\"lower\")\n",
    "    ax.set_xticks(range(len(df.columns)), labels=[str(c) for c in df.columns])\n",
    "    ax.set_yticks(range(len(df.index)), labels=[str(i) for i in df.index])\n",
    "    ax.set_xlabel(df.columns.name or \"\")\n",
    "    ax.set_ylabel(df.index.name or \"\")\n",
    "    ax.set_title(title)\n",
    "    cbar = plt.colorbar(im, ax=ax)\n",
    "    cbar.set_label(\"t-stat\")\n",
    "    plt.tight_layout()\n",
    "    plt.show()\n",
    "\n",
    "def plot_tstat_by_calendar_month(ret_daily: pd.Series, title):\n",
    "    r_m = to_monthly(ret_daily)\n",
    "    by_m = r_m.groupby(r_m.index.month).apply(t_stat)\n",
    "    fig, ax = plt.subplots(figsize=(8,3.5))\n",
    "    ax.bar(by_m.index, by_m.values)\n",
    "    ax.set_xticks(range(1,13))\n",
    "    ax.set_xlabel(\"Mês do calendário (1=Jan ... 12=Dez)\")\n",
    "    ax.set_ylabel(\"t-stat\")\n",
    "    ax.set_title(title)\n",
    "    plt.tight_layout()\n",
    "    plt.show()\n",
    "    \n",
    "prices = df_tri.copy()\n",
    "prices.index = pd.to_datetime(prices.index)\n",
    "prices = prices.select_dtypes(include=[np.number]).dropna(how=\"all\", axis=1)\n",
    "\n",
    "lookbacks_m = [1,3,6,9,12,24,36,48]\n",
    "holdings_m  = [1,3,6,9,12,24,36,48]\n",
    "skip_m = 1\n",
    "top_k = 10\n",
    "\n",
    "ts_tbl = tstat_grid_TS(prices, lookbacks_m, holdings_m, skip_m=skip_m)\n",
    "cs_tbl = tstat_grid_CS(prices, lookbacks_m, holdings_m, skip_m=skip_m, top_k=top_k)\n",
    "\n",
    "print(\"TS Momentum — t-stats (lookback x holding)\")\n",
    "display(ts_tbl.round(2))\n",
    "\n",
    "print(\"CS Momentum — t-stats (lookback x holding)\")\n",
    "display(cs_tbl.round(2))\n",
    "\n",
    "plot_heatmap(ts_tbl, \"TS Momentum — t-stat heatmap\")\n",
    "plot_heatmap(cs_tbl, \"CS Momentum — t-stat heatmap\")\n",
    "\n",
    "ts_example = time_series_momentum(prices, lookback=days(12), skip=days(1), holding=days(3))\n",
    "cs_example = cross_sectional_momentum(prices, lookback=days(12), skip=days(1), holding=days(3), top_k=top_k)\n",
    "\n",
    "plot_tstat_by_calendar_month(ts_example, \"TS — t-stat por mês do calendário\")\n",
    "plot_tstat_by_calendar_month(cs_example, \"CS — t-stat por mês do calendário\")\n"
   ]
  },
  {
   "cell_type": "code",
   "execution_count": 93,
   "metadata": {},
   "outputs": [
    {
     "name": "stderr",
     "output_type": "stream",
     "text": [
      "/var/folders/pm/ps47mfm943x_nqjshcjsk5ch0000gn/T/ipykernel_21951/3313448931.py:2: FutureWarning: The default fill_method='pad' in DataFrame.pct_change is deprecated and will be removed in a future version. Either fill in any non-leading NA values prior to calling pct_change or specify 'fill_method=None' to not fill NA values.\n",
      "  rets = prices.pct_change()\n",
      "/var/folders/pm/ps47mfm943x_nqjshcjsk5ch0000gn/T/ipykernel_21951/3313448931.py:2: FutureWarning: The default fill_method='pad' in DataFrame.pct_change is deprecated and will be removed in a future version. Either fill in any non-leading NA values prior to calling pct_change or specify 'fill_method=None' to not fill NA values.\n",
      "  rets = prices.pct_change()\n",
      "/var/folders/pm/ps47mfm943x_nqjshcjsk5ch0000gn/T/ipykernel_21951/3313448931.py:2: FutureWarning: The default fill_method='pad' in DataFrame.pct_change is deprecated and will be removed in a future version. Either fill in any non-leading NA values prior to calling pct_change or specify 'fill_method=None' to not fill NA values.\n",
      "  rets = prices.pct_change()\n",
      "/var/folders/pm/ps47mfm943x_nqjshcjsk5ch0000gn/T/ipykernel_21951/3313448931.py:2: FutureWarning: The default fill_method='pad' in DataFrame.pct_change is deprecated and will be removed in a future version. Either fill in any non-leading NA values prior to calling pct_change or specify 'fill_method=None' to not fill NA values.\n",
      "  rets = prices.pct_change()\n",
      "/var/folders/pm/ps47mfm943x_nqjshcjsk5ch0000gn/T/ipykernel_21951/3313448931.py:2: FutureWarning: The default fill_method='pad' in DataFrame.pct_change is deprecated and will be removed in a future version. Either fill in any non-leading NA values prior to calling pct_change or specify 'fill_method=None' to not fill NA values.\n",
      "  rets = prices.pct_change()\n",
      "/var/folders/pm/ps47mfm943x_nqjshcjsk5ch0000gn/T/ipykernel_21951/3313448931.py:2: FutureWarning: The default fill_method='pad' in DataFrame.pct_change is deprecated and will be removed in a future version. Either fill in any non-leading NA values prior to calling pct_change or specify 'fill_method=None' to not fill NA values.\n",
      "  rets = prices.pct_change()\n",
      "/var/folders/pm/ps47mfm943x_nqjshcjsk5ch0000gn/T/ipykernel_21951/3313448931.py:2: FutureWarning: The default fill_method='pad' in DataFrame.pct_change is deprecated and will be removed in a future version. Either fill in any non-leading NA values prior to calling pct_change or specify 'fill_method=None' to not fill NA values.\n",
      "  rets = prices.pct_change()\n",
      "/var/folders/pm/ps47mfm943x_nqjshcjsk5ch0000gn/T/ipykernel_21951/3313448931.py:2: FutureWarning: The default fill_method='pad' in DataFrame.pct_change is deprecated and will be removed in a future version. Either fill in any non-leading NA values prior to calling pct_change or specify 'fill_method=None' to not fill NA values.\n",
      "  rets = prices.pct_change()\n",
      "/var/folders/pm/ps47mfm943x_nqjshcjsk5ch0000gn/T/ipykernel_21951/3313448931.py:2: FutureWarning: The default fill_method='pad' in DataFrame.pct_change is deprecated and will be removed in a future version. Either fill in any non-leading NA values prior to calling pct_change or specify 'fill_method=None' to not fill NA values.\n",
      "  rets = prices.pct_change()\n",
      "/var/folders/pm/ps47mfm943x_nqjshcjsk5ch0000gn/T/ipykernel_21951/3313448931.py:2: FutureWarning: The default fill_method='pad' in DataFrame.pct_change is deprecated and will be removed in a future version. Either fill in any non-leading NA values prior to calling pct_change or specify 'fill_method=None' to not fill NA values.\n",
      "  rets = prices.pct_change()\n",
      "/var/folders/pm/ps47mfm943x_nqjshcjsk5ch0000gn/T/ipykernel_21951/3313448931.py:2: FutureWarning: The default fill_method='pad' in DataFrame.pct_change is deprecated and will be removed in a future version. Either fill in any non-leading NA values prior to calling pct_change or specify 'fill_method=None' to not fill NA values.\n",
      "  rets = prices.pct_change()\n",
      "/var/folders/pm/ps47mfm943x_nqjshcjsk5ch0000gn/T/ipykernel_21951/3313448931.py:2: FutureWarning: The default fill_method='pad' in DataFrame.pct_change is deprecated and will be removed in a future version. Either fill in any non-leading NA values prior to calling pct_change or specify 'fill_method=None' to not fill NA values.\n",
      "  rets = prices.pct_change()\n",
      "/var/folders/pm/ps47mfm943x_nqjshcjsk5ch0000gn/T/ipykernel_21951/3313448931.py:2: FutureWarning: The default fill_method='pad' in DataFrame.pct_change is deprecated and will be removed in a future version. Either fill in any non-leading NA values prior to calling pct_change or specify 'fill_method=None' to not fill NA values.\n",
      "  rets = prices.pct_change()\n",
      "/var/folders/pm/ps47mfm943x_nqjshcjsk5ch0000gn/T/ipykernel_21951/3313448931.py:2: FutureWarning: The default fill_method='pad' in DataFrame.pct_change is deprecated and will be removed in a future version. Either fill in any non-leading NA values prior to calling pct_change or specify 'fill_method=None' to not fill NA values.\n",
      "  rets = prices.pct_change()\n",
      "/var/folders/pm/ps47mfm943x_nqjshcjsk5ch0000gn/T/ipykernel_21951/3313448931.py:2: FutureWarning: The default fill_method='pad' in DataFrame.pct_change is deprecated and will be removed in a future version. Either fill in any non-leading NA values prior to calling pct_change or specify 'fill_method=None' to not fill NA values.\n",
      "  rets = prices.pct_change()\n",
      "/var/folders/pm/ps47mfm943x_nqjshcjsk5ch0000gn/T/ipykernel_21951/3313448931.py:2: FutureWarning: The default fill_method='pad' in DataFrame.pct_change is deprecated and will be removed in a future version. Either fill in any non-leading NA values prior to calling pct_change or specify 'fill_method=None' to not fill NA values.\n",
      "  rets = prices.pct_change()\n",
      "/var/folders/pm/ps47mfm943x_nqjshcjsk5ch0000gn/T/ipykernel_21951/3313448931.py:2: FutureWarning: The default fill_method='pad' in DataFrame.pct_change is deprecated and will be removed in a future version. Either fill in any non-leading NA values prior to calling pct_change or specify 'fill_method=None' to not fill NA values.\n",
      "  rets = prices.pct_change()\n",
      "/var/folders/pm/ps47mfm943x_nqjshcjsk5ch0000gn/T/ipykernel_21951/3313448931.py:2: FutureWarning: The default fill_method='pad' in DataFrame.pct_change is deprecated and will be removed in a future version. Either fill in any non-leading NA values prior to calling pct_change or specify 'fill_method=None' to not fill NA values.\n",
      "  rets = prices.pct_change()\n",
      "/var/folders/pm/ps47mfm943x_nqjshcjsk5ch0000gn/T/ipykernel_21951/3313448931.py:2: FutureWarning: The default fill_method='pad' in DataFrame.pct_change is deprecated and will be removed in a future version. Either fill in any non-leading NA values prior to calling pct_change or specify 'fill_method=None' to not fill NA values.\n",
      "  rets = prices.pct_change()\n",
      "/var/folders/pm/ps47mfm943x_nqjshcjsk5ch0000gn/T/ipykernel_21951/3313448931.py:2: FutureWarning: The default fill_method='pad' in DataFrame.pct_change is deprecated and will be removed in a future version. Either fill in any non-leading NA values prior to calling pct_change or specify 'fill_method=None' to not fill NA values.\n",
      "  rets = prices.pct_change()\n",
      "/var/folders/pm/ps47mfm943x_nqjshcjsk5ch0000gn/T/ipykernel_21951/3313448931.py:2: FutureWarning: The default fill_method='pad' in DataFrame.pct_change is deprecated and will be removed in a future version. Either fill in any non-leading NA values prior to calling pct_change or specify 'fill_method=None' to not fill NA values.\n",
      "  rets = prices.pct_change()\n",
      "/var/folders/pm/ps47mfm943x_nqjshcjsk5ch0000gn/T/ipykernel_21951/3313448931.py:2: FutureWarning: The default fill_method='pad' in DataFrame.pct_change is deprecated and will be removed in a future version. Either fill in any non-leading NA values prior to calling pct_change or specify 'fill_method=None' to not fill NA values.\n",
      "  rets = prices.pct_change()\n",
      "/var/folders/pm/ps47mfm943x_nqjshcjsk5ch0000gn/T/ipykernel_21951/3313448931.py:2: FutureWarning: The default fill_method='pad' in DataFrame.pct_change is deprecated and will be removed in a future version. Either fill in any non-leading NA values prior to calling pct_change or specify 'fill_method=None' to not fill NA values.\n",
      "  rets = prices.pct_change()\n",
      "/var/folders/pm/ps47mfm943x_nqjshcjsk5ch0000gn/T/ipykernel_21951/3313448931.py:2: FutureWarning: The default fill_method='pad' in DataFrame.pct_change is deprecated and will be removed in a future version. Either fill in any non-leading NA values prior to calling pct_change or specify 'fill_method=None' to not fill NA values.\n",
      "  rets = prices.pct_change()\n"
     ]
    },
    {
     "name": "stdout",
     "output_type": "stream",
     "text": [
      "Top ['NFLX UW Equity', 'NFLX UW Equity.1', 'AKAM UW Equity', 'AKAM UW Equity.1', 'UAL UW Equity', 'UAL UW Equity.1', 'HBAN UW Equity', 'HBAN UW Equity.1', 'CMG UN Equity', 'CMG UN Equity.1', 'LVS UN Equity', 'LVS UN Equity.1', 'CMI UN Equity', 'CMI UN Equity.1', 'FFIV UW Equity', 'FFIV UW Equity.1', 'KEY UN Equity', 'KEY UN Equity.1', 'HSY UN Equity', 'HSY UN Equity.1', 'TSN UN Equity', 'TSN UN Equity.1', 'WYNN UW Equity', 'WYNN UW Equity.1', 'DXCM UW Equity', 'DXCM UW Equity.1', 'INCY UW Equity', 'INCY UW Equity.1', 'FITB UW Equity', 'FITB UW Equity.1', 'IT UN Equity', 'IT UN Equity.1', 'MTB UN Equity', 'MTB UN Equity.1', 'EQR UN Equity', 'EQR UN Equity.1', 'EL UN Equity', 'EL UN Equity.1', 'RF UN Equity', 'RF UN Equity.1', 'DG UN Equity', 'DG UN Equity.1', 'DLTR UW Equity', 'DLTR UW Equity.1', 'MOH UN Equity', 'MOH UN Equity.1', 'LULU UW Equity', 'LULU UW Equity.1', 'TSCO UW Equity', 'TSCO UW Equity.1', 'CRM UN Equity', 'CRM UN Equity.1', 'AZO UN Equity', 'AZO UN Equity.1', 'SMCI UW Equity', 'SMCI UW Equity.1', 'ROST UW Equity', 'ROST UW Equity.1', 'EW UN Equity', 'EW UN Equity.1', 'NEM UN Equity', 'NEM UN Equity.1', 'ULTA UW Equity', 'ULTA UW Equity.1', 'RMD UN Equity', 'RMD UN Equity.1', 'ESS UN Equity', 'ESS UN Equity.1', 'ORLY UW Equity', 'ORLY UW Equity.1', 'DLR UN Equity', 'DLR UN Equity.1', 'AIZ UN Equity', 'AIZ UN Equity.1', 'UDR UN Equity', 'UDR UN Equity.1', 'O UN Equity', 'O UN Equity.1', 'COR UN Equity', 'COR UN Equity.1', 'C UN Equity', 'C UN Equity.1', 'ERIE UW Equity', 'ERIE UW Equity.1', 'AVGO UW Equity', 'AVGO UW Equity.1', 'EXR UN Equity', 'EXR UN Equity.1', 'AVB UN Equity', 'AVB UN Equity.1', 'AIG UN Equity', 'AIG UN Equity.1', 'UHS UN Equity', 'UHS UN Equity.1', 'SWKS UW Equity', 'SWKS UW Equity.1', 'AOS UN Equity', 'AOS UN Equity.1', 'WSM UN Equity', 'WSM UN Equity.1', 'INTU UW Equity', 'INTU UW Equity.1', 'PCAR UW Equity', 'PCAR UW Equity.1', 'BRK/B UN Equity', 'BRK/B UN Equity.1', 'FAST UW Equity', 'FAST UW Equity.1', 'BA UN Equity', 'BA UN Equity.1', 'FIS UN Equity', 'FIS UN Equity.1', 'LYV UN Equity', 'LYV UN Equity.1', 'YUM UN Equity', 'YUM UN Equity.1', 'DRI UN Equity', 'DRI UN Equity.1', 'CTSH UW Equity', 'CTSH UW Equity.1', 'AAPL UW Equity', 'AAPL UW Equity.1', 'F UN Equity', 'F UN Equity.1', 'VRSN UW Equity', 'VRSN UW Equity.1', 'NTAP UW Equity', 'NTAP UW Equity.1'] Last ['NVDA UW Equity', 'NVDA UW Equity.1', 'BLK UN Equity', 'BLK UN Equity.1', 'GPN UN Equity', 'GPN UN Equity.1', 'MOS UN Equity', 'MOS UN Equity.1', 'BSX UN Equity', 'BSX UN Equity.1', 'BAX UN Equity', 'BAX UN Equity.1', 'CTRA UN Equity', 'CTRA UN Equity.1', 'AES UN Equity', 'AES UN Equity.1', 'ADBE UW Equity', 'ADBE UW Equity.1', 'SCHW UN Equity', 'SCHW UN Equity.1', 'VRTX UW Equity', 'VRTX UW Equity.1', 'MPWR UW Equity', 'MPWR UW Equity.1', 'FCX UN Equity', 'FCX UN Equity.1', 'GOOGL UW Equity', 'GOOGL UW Equity.1', 'ON UW Equity', 'ON UW Equity.1', 'TYL UN Equity', 'TYL UN Equity.1', 'QCOM UW Equity', 'QCOM UW Equity.1', 'GILD UW Equity', 'GILD UW Equity.1', 'EXPE UW Equity', 'EXPE UW Equity.1', 'KMX UN Equity', 'KMX UN Equity.1', 'EQIX UW Equity', 'EQIX UW Equity.1', 'STX UW Equity', 'STX UW Equity.1', 'CBOE UF Equity', 'CBOE UF Equity.1', 'MU UW Equity', 'MU UW Equity.1', 'IVZ UN Equity', 'IVZ UN Equity.1', 'MAS UN Equity', 'MAS UN Equity.1', 'BX UN Equity', 'BX UN Equity.1', 'CME UW Equity', 'CME UW Equity.1', 'MA UN Equity', 'MA UN Equity.1', 'PPL UN Equity', 'PPL UN Equity.1', 'FE UN Equity', 'FE UN Equity.1', 'TSLA UW Equity', 'TSLA UW Equity.1', 'GEN UW Equity', 'GEN UW Equity.1', 'PFE UN Equity', 'PFE UN Equity.1', 'STLD UW Equity', 'STLD UW Equity.1', 'DGX UN Equity', 'DGX UN Equity.1', 'MSFT UW Equity', 'MSFT UW Equity.1', 'MCO UN Equity', 'MCO UN Equity.1', 'TECH UW Equity', 'TECH UW Equity.1', 'KLAC UW Equity', 'KLAC UW Equity.1', 'BG UN Equity', 'BG UN Equity.1', 'PHM UN Equity', 'PHM UN Equity.1', 'VMC UN Equity', 'VMC UN Equity.1', 'NUE UN Equity', 'NUE UN Equity.1', 'ALGN UW Equity', 'ALGN UW Equity.1', 'AXON UW Equity', 'AXON UW Equity.1', 'CF UN Equity', 'CF UN Equity.1', 'EQT UN Equity', 'EQT UN Equity.1', 'V UN Equity', 'V UN Equity.1', 'GS UN Equity', 'GS UN Equity.1', 'DVN UN Equity', 'DVN UN Equity.1', 'ADM UN Equity', 'ADM UN Equity.1', 'MS UN Equity', 'MS UN Equity.1', 'STT UN Equity', 'STT UN Equity.1', 'EG UN Equity', 'EG UN Equity.1', 'EA UW Equity', 'EA UW Equity.1', 'MDT UN Equity', 'MDT UN Equity.1', 'APD UN Equity', 'APD UN Equity.1', 'XOM UN Equity', 'XOM UN Equity.1', 'PAYX UW Equity', 'PAYX UW Equity.1', 'JBL UN Equity', 'JBL UN Equity.1', 'IP UN Equity', 'IP UN Equity.1', 'BDX UN Equity', 'BDX UN Equity.1', 'TPL UN Equity', 'TPL UN Equity.1']\n",
      "Top ['NFLX UW Equity', 'NFLX UW Equity.1', 'LVS UN Equity', 'LVS UN Equity.1', 'URI UN Equity', 'URI UN Equity.1', 'CMG UN Equity', 'CMG UN Equity.1', 'CMI UN Equity', 'CMI UN Equity.1', 'LULU UW Equity', 'LULU UW Equity.1', 'SWKS UW Equity', 'SWKS UW Equity.1', 'WYNN UW Equity', 'WYNN UW Equity.1', 'FTNT UW Equity', 'FTNT UW Equity.1', 'FFIV UW Equity', 'FFIV UW Equity.1', 'ULTA UW Equity', 'ULTA UW Equity.1', 'TSCO UW Equity', 'TSCO UW Equity.1', 'HBAN UW Equity', 'HBAN UW Equity.1', 'IT UN Equity', 'IT UN Equity.1', 'BKNG UW Equity', 'BKNG UW Equity.1', 'EW UN Equity', 'EW UN Equity.1', 'AKAM UW Equity', 'AKAM UW Equity.1', 'F UN Equity', 'F UN Equity.1', 'RCL UN Equity', 'RCL UN Equity.1', 'NXPI UW Equity', 'NXPI UW Equity.1', 'UAL UW Equity', 'UAL UW Equity.1', 'ROK UN Equity', 'ROK UN Equity.1', 'DXCM UW Equity', 'DXCM UW Equity.1', 'TRMB UW Equity', 'TRMB UW Equity.1', 'ERIE UW Equity', 'ERIE UW Equity.1', 'CAT UN Equity', 'CAT UN Equity.1', 'CRM UN Equity', 'CRM UN Equity.1', 'EXR UN Equity', 'EXR UN Equity.1', 'ETN UN Equity', 'ETN UN Equity.1', 'DE UN Equity', 'DE UN Equity.1', 'EL UN Equity', 'EL UN Equity.1', 'INCY UW Equity', 'INCY UW Equity.1', 'PH UN Equity', 'PH UN Equity.1', 'AIG UN Equity', 'AIG UN Equity.1', 'MGM UN Equity', 'MGM UN Equity.1', 'EQR UN Equity', 'EQR UN Equity.1', 'WSM UN Equity', 'WSM UN Equity.1', 'TDG UN Equity', 'TDG UN Equity.1', 'AMP UN Equity', 'AMP UN Equity.1', 'ODFL UW Equity', 'ODFL UW Equity.1', 'AAPL UW Equity', 'AAPL UW Equity.1', 'CBRE UN Equity', 'CBRE UN Equity.1', 'AZO UN Equity', 'AZO UN Equity.1', 'KEY UN Equity', 'KEY UN Equity.1', 'CTSH UW Equity', 'CTSH UW Equity.1', 'DLTR UW Equity', 'DLTR UW Equity.1', 'NTAP UW Equity', 'NTAP UW Equity.1', 'ADSK UW Equity', 'ADSK UW Equity.1', 'AVGO UW Equity', 'AVGO UW Equity.1', 'LEN UN Equity', 'LEN UN Equity.1', 'ROST UW Equity', 'ROST UW Equity.1', 'EMN UN Equity', 'EMN UN Equity.1', 'ALB UN Equity', 'ALB UN Equity.1', 'PCAR UW Equity', 'PCAR UW Equity.1', 'AME UN Equity', 'AME UN Equity.1', 'RJF UN Equity', 'RJF UN Equity.1', 'ROL UN Equity', 'ROL UN Equity.1', 'NDSN UW Equity', 'NDSN UW Equity.1', 'INTU UW Equity', 'INTU UW Equity.1', 'AOS UN Equity', 'AOS UN Equity.1'] Last ['MPWR UW Equity', 'MPWR UW Equity.1', 'CBOE UF Equity', 'CBOE UF Equity.1', 'STX UW Equity', 'STX UW Equity.1', 'BSX UN Equity', 'BSX UN Equity.1', 'V UN Equity', 'V UN Equity.1', 'PHM UN Equity', 'PHM UN Equity.1', 'EQIX UW Equity', 'EQIX UW Equity.1', 'VMC UN Equity', 'VMC UN Equity.1', 'PPL UN Equity', 'PPL UN Equity.1', 'EA UW Equity', 'EA UW Equity.1', 'BAX UN Equity', 'BAX UN Equity.1', 'TKO UN Equity', 'TKO UN Equity.1', 'LDOS UN Equity', 'LDOS UN Equity.1', 'GPN UN Equity', 'GPN UN Equity.1', 'MDT UN Equity', 'MDT UN Equity.1', 'BLK UN Equity', 'BLK UN Equity.1', 'BBY UN Equity', 'BBY UN Equity.1', 'CSCO UW Equity', 'CSCO UW Equity.1', 'ABT UN Equity', 'ABT UN Equity.1', 'GILD UW Equity', 'GILD UW Equity.1', 'FE UN Equity', 'FE UN Equity.1', 'BAC UN Equity', 'BAC UN Equity.1', 'NRG UN Equity', 'NRG UN Equity.1', 'HAS UW Equity', 'HAS UW Equity.1', 'HPQ UN Equity', 'HPQ UN Equity.1', 'VRTX UW Equity', 'VRTX UW Equity.1', 'ADBE UW Equity', 'ADBE UW Equity.1', 'ETR UN Equity', 'ETR UN Equity.1', 'CTRA UN Equity', 'CTRA UN Equity.1', 'CME UW Equity', 'CME UW Equity.1', 'MA UN Equity', 'MA UN Equity.1', 'MRK UN Equity', 'MRK UN Equity.1', 'AES UN Equity', 'AES UN Equity.1', 'AXON UW Equity', 'AXON UW Equity.1', 'SRE UN Equity', 'SRE UN Equity.1', 'MSFT UW Equity', 'MSFT UW Equity.1', 'MLM UN Equity', 'MLM UN Equity.1', 'DGX UN Equity', 'DGX UN Equity.1', 'CL UN Equity', 'CL UN Equity.1', 'JNJ UN Equity', 'JNJ UN Equity.1', 'SCHW UN Equity', 'SCHW UN Equity.1', 'GS UN Equity', 'GS UN Equity.1', 'K UN Equity', 'K UN Equity.1', 'GOOGL UW Equity', 'GOOGL UW Equity.1', 'AMGN UW Equity', 'AMGN UW Equity.1', 'ZBH UN Equity', 'ZBH UN Equity.1', 'EXPE UW Equity', 'EXPE UW Equity.1', 'GRMN UN Equity', 'EXPD UN Equity', 'FI UN Equity', 'DECK UN Equity', 'DECK UN Equity.1', 'EXPD UN Equity.1', 'FI UN Equity.1', 'GRMN UN Equity.1', 'GEN UW Equity', 'GEN UW Equity.1', 'MU UW Equity', 'MU UW Equity.1', 'NUE UN Equity', 'NUE UN Equity.1', 'MS UN Equity', 'MS UN Equity.1', 'NTRS UW Equity', 'NTRS UW Equity.1', 'PEG UN Equity', 'PEG UN Equity.1', 'SJM UN Equity', 'SJM UN Equity.1', 'TECH UW Equity', 'TECH UW Equity.1', 'EG UN Equity', 'EG UN Equity.1']\n",
      "Top ['LULU UW Equity', 'LULU UW Equity.1', 'ULTA UW Equity', 'ULTA UW Equity.1', 'FTNT UW Equity', 'FTNT UW Equity.1', 'CMG UN Equity', 'CMG UN Equity.1', 'BKNG UW Equity', 'BKNG UW Equity.1', 'CTRA UN Equity', 'CTRA UN Equity.1', 'REGN UW Equity', 'REGN UW Equity.1', 'CF UN Equity', 'CF UN Equity.1', 'NFLX UW Equity', 'NFLX UW Equity.1', 'MKTX UW Equity', 'MKTX UW Equity.1', 'MNST UW Equity', 'MNST UW Equity.1', 'WYNN UW Equity', 'WYNN UW Equity.1', 'LVS UN Equity', 'LVS UN Equity.1', 'RL UN Equity', 'RL UN Equity.1', 'TSCO UW Equity', 'TSCO UW Equity.1', 'TDG UN Equity', 'TDG UN Equity.1', 'BIIB UW Equity', 'BIIB UW Equity.1', 'AMZN UW Equity', 'AMZN UW Equity.1', 'MA UN Equity', 'MA UN Equity.1', 'HAL UN Equity', 'HAL UN Equity.1', 'HUM UN Equity', 'HUM UN Equity.1', 'TPL UN Equity', 'TPL UN Equity.1', 'EMN UN Equity', 'EMN UN Equity.1', 'FCX UN Equity', 'FCX UN Equity.1', 'URI UN Equity', 'URI UN Equity.1', 'CPT UN Equity', 'CPT UN Equity.1', 'EL UN Equity', 'EL UN Equity.1', 'DLTR UW Equity', 'DLTR UW Equity.1', 'ERIE UW Equity', 'ERIE UW Equity.1', 'TPR UN Equity', 'TPR UN Equity.1', 'EQT UN Equity', 'EQT UN Equity.1', 'OKE UN Equity', 'OKE UN Equity.1', 'TYL UN Equity', 'TYL UN Equity.1', 'IT UN Equity', 'IT UN Equity.1', 'WMB UN Equity', 'WMB UN Equity.1', 'NDSN UW Equity', 'NDSN UW Equity.1', 'EBAY UW Equity', 'EBAY UW Equity.1', 'AAPL UW Equity', 'AAPL UW Equity.1', 'SBUX UW Equity', 'SBUX UW Equity.1', 'CDNS UW Equity', 'CDNS UW Equity.1', 'EXR UN Equity', 'EXR UN Equity.1', 'KMX UN Equity', 'KMX UN Equity.1', 'UNH UN Equity', 'UNH UN Equity.1', 'CRM UN Equity', 'CRM UN Equity.1', 'MCO UN Equity', 'MCO UN Equity.1', 'MOS UN Equity', 'MOS UN Equity.1', 'CNP UN Equity', 'CNP UN Equity.1', 'EXPE UW Equity', 'EXPE UW Equity.1', 'SPG UN Equity', 'SPG UN Equity.1', 'ALB UN Equity', 'ALB UN Equity.1', 'AWK UN Equity', 'AWK UN Equity.1', 'ESS UN Equity', 'ESS UN Equity.1', 'EQR UN Equity', 'EQR UN Equity.1', 'CI UN Equity', 'CI UN Equity.1', 'ACN UN Equity', 'ACN UN Equity.1', 'AVGO UW Equity', 'AVGO UW Equity.1', 'AVB UN Equity', 'AVB UN Equity.1', 'QCOM UW Equity'] Last ['BAC UN Equity', 'BAC UN Equity.1', 'AKAM UW Equity', 'AKAM UW Equity.1', 'PHM UN Equity', 'PHM UN Equity.1', 'DAL UN Equity', 'DAL UN Equity.1', 'HCA UN Equity', 'HCA UN Equity.1', 'TKO UN Equity', 'TKO UN Equity.1', 'MPWR UW Equity', 'MPWR UW Equity.1', 'HPQ UN Equity', 'HPQ UN Equity.1', 'RF UN Equity', 'RF UN Equity.1', 'CSCO UW Equity', 'CSCO UW Equity.1', 'LUV UN Equity', 'LUV UN Equity.1', 'VMC UN Equity', 'VMC UN Equity.1', 'BBY UN Equity', 'BBY UN Equity.1', 'HII UN Equity', 'HII UN Equity.1', 'MS UN Equity', 'MS UN Equity.1', 'LII UN Equity', 'LII UN Equity.1', 'GM UN Equity', 'GM UN Equity.1', 'APO UN Equity', 'APO UN Equity.1', 'HAS UW Equity', 'HAS UW Equity.1', 'MU UW Equity', 'MU UW Equity.1', 'AIG UN Equity', 'AIG UN Equity.1', 'C UN Equity', 'C UN Equity.1', 'NTRS UW Equity', 'NTRS UW Equity.1', 'FSLR UW Equity', 'FSLR UW Equity.1', 'MLM UN Equity', 'MLM UN Equity.1', 'BK UN Equity', 'BK UN Equity.1', 'GS UN Equity', 'GS UN Equity.1', 'SCHW UN Equity', 'SCHW UN Equity.1', 'TFC UN Equity', 'TFC UN Equity.1', 'MAS UN Equity', 'MAS UN Equity.1', 'FITB UW Equity', 'FITB UW Equity.1', 'AVY UN Equity', 'AVY UN Equity.1', 'PNC UN Equity', 'STX UW Equity', 'STX UW Equity.1', 'AFL UN Equity', 'AFL UN Equity.1', 'RMD UN Equity', 'RMD UN Equity.1', 'GLW UN Equity', 'GLW UN Equity.1', 'TT UN Equity', 'TT UN Equity.1', 'MDT UN Equity', 'MDT UN Equity.1', 'LHX UN Equity', 'LHX UN Equity.1', 'ETR UN Equity', 'ETR UN Equity.1', 'LDOS UN Equity', 'LDOS UN Equity.1', 'KEY UN Equity', 'KEY UN Equity.1', 'PWR UN Equity', 'PWR UN Equity.1', 'ADBE UW Equity', 'ADBE UW Equity.1', 'PCAR UW Equity', 'PCAR UW Equity.1', 'KMI UN Equity', 'KMI UN Equity.1', 'MTB UN Equity', 'MTB UN Equity.1', 'RSG UN Equity', 'RSG UN Equity.1', 'MET UN Equity', 'MET UN Equity.1', 'HBAN UW Equity', 'HBAN UW Equity.1', 'MRK UN Equity', 'MRK UN Equity.1', 'CRL UN Equity', 'CRL UN Equity.1', 'STLD UW Equity', 'STLD UW Equity.1', 'EOG UN Equity', 'EOG UN Equity.1', 'CBOE UF Equity', 'CBOE UF Equity.1', 'MOH UN Equity', 'MOH UN Equity.1', 'NVR UN Equity', 'NVR UN Equity.1']\n",
      "Top ['REGN UW Equity', 'REGN UW Equity.1', 'ULTA UW Equity', 'ULTA UW Equity.1', 'STX UW Equity', 'STX UW Equity.1', 'MNST UW Equity', 'MNST UW Equity.1', 'LULU UW Equity', 'LULU UW Equity.1', 'TYL UN Equity', 'TYL UN Equity.1', 'FAST UW Equity', 'FAST UW Equity.1', 'BIIB UW Equity', 'BIIB UW Equity.1', 'CTRA UN Equity', 'CTRA UN Equity.1', 'CNC UN Equity', 'CMG UN Equity', 'CMG UN Equity.1', 'MA UN Equity', 'MA UN Equity.1', 'GNRC UN Equity', 'GNRC UN Equity.1', 'DLTR UW Equity', 'DLTR UW Equity.1', 'V UN Equity', 'V UN Equity.1', 'TSCO UW Equity', 'TSCO UW Equity.1', 'RL UN Equity', 'RL UN Equity.1', 'MKTX UW Equity', 'MKTX UW Equity.1', 'MOH UN Equity', 'MOH UN Equity.1', 'ROST UW Equity', 'ROST UW Equity.1', 'GWW UN Equity', 'GWW UN Equity.1', 'POOL UW Equity', 'POOL UW Equity.1', 'FICO UN Equity', 'FICO UN Equity.1', 'URI UN Equity', 'URI UN Equity.1', 'SBUX UW Equity', 'SBUX UW Equity.1', 'ISRG UW Equity', 'ISRG UW Equity.1', 'EQIX UW Equity', 'EQIX UW Equity.1', 'AAPL UW Equity', 'AAPL UW Equity.1', 'TJX UN Equity', 'TJX UN Equity.1', 'ORLY UW Equity', 'ORLY UW Equity.1', 'TDG UN Equity', 'TDG UN Equity.1', 'HUM UN Equity', 'HUM UN Equity.1', 'TRGP UN Equity', 'TRGP UN Equity.1', 'PM UN Equity', 'PM UN Equity.1', 'CHTR UW Equity', 'CHTR UW Equity.1', 'DG UN Equity', 'DG UN Equity.1', 'OKE UN Equity', 'OKE UN Equity.1', 'APTV UN Equity', 'APTV UN Equity.1', 'EXR UN Equity', 'EXR UN Equity.1', 'LYB UN Equity', 'LYB UN Equity.1', 'YUM UN Equity', 'YUM UN Equity.1', 'EL UN Equity', 'EL UN Equity.1', 'TSLA UW Equity', 'TSLA UW Equity.1', 'EXPE UW Equity', 'EXPE UW Equity.1', 'AZO UN Equity', 'AZO UN Equity.1', 'FTNT UW Equity', 'FTNT UW Equity.1', 'TPR UN Equity', 'TPR UN Equity.1', 'CHD UN Equity', 'CHD UN Equity.1', 'MCD UN Equity', 'MCD UN Equity.1', 'WAB UN Equity', 'WAB UN Equity.1', 'CF UN Equity', 'CF UN Equity.1', 'SPG UN Equity', 'SPG UN Equity.1', 'CTAS UW Equity', 'CTAS UW Equity.1', 'CDNS UW Equity', 'CDNS UW Equity.1', 'AWK UN Equity', 'AWK UN Equity.1', 'BKNG UW Equity', 'BKNG UW Equity.1'] Last ['FSLR UW Equity', 'FSLR UW Equity.1', 'NFLX UW Equity', 'NFLX UW Equity.1', 'BAC UN Equity', 'BAC UN Equity.1', 'HPQ UN Equity', 'HPQ UN Equity.1', 'GLW UN Equity', 'GLW UN Equity.1', 'RCL UN Equity', 'RCL UN Equity.1', 'MS UN Equity', 'MS UN Equity.1', 'NVDA UW Equity', 'NVDA UW Equity.1', 'C UN Equity', 'C UN Equity.1', 'AIG UN Equity', 'AIG UN Equity.1', 'CCL UN Equity', 'CCL UN Equity.1', 'GS UN Equity', 'GS UN Equity.1', 'BK UN Equity', 'BK UN Equity.1', 'GM UN Equity', 'GM UN Equity.1', 'MOS UN Equity', 'MOS UN Equity.1', 'LUV UN Equity', 'LUV UN Equity.1', 'MU UW Equity', 'MU UW Equity.1', 'BBY UN Equity', 'BBY UN Equity.1', 'HIG UN Equity', 'HIG UN Equity.1', 'SCHW UN Equity', 'SCHW UN Equity.1', 'F UN Equity', 'F UN Equity.1', 'AKAM UW Equity', 'AKAM UW Equity.1', 'AVY UN Equity', 'AVY UN Equity.1', 'LDOS UN Equity', 'LDOS UN Equity.1', 'DXCM UW Equity', 'DXCM UW Equity.1', 'NTAP UW Equity', 'NTAP UW Equity.1', 'SWKS UW Equity', 'SWKS UW Equity.1', 'LRCX UW Equity', 'LRCX UW Equity.1', 'DAL UN Equity', 'DAL UN Equity.1', 'HAS UW Equity', 'HAS UW Equity.1', 'APO UN Equity', 'APO UN Equity.1', 'ON UW Equity', 'ON UW Equity.1', 'AMAT UW Equity', 'AMAT UW Equity.1', 'STLD UW Equity', 'STLD UW Equity.1', 'TKO UN Equity', 'TKO UN Equity.1', 'BSX UN Equity', 'BSX UN Equity.1', 'NRG UN Equity', 'NRG UN Equity.1', 'LII UN Equity', 'LII UN Equity.1', 'CBRE UN Equity', 'CBRE UN Equity.1', 'FCX UN Equity', 'FCX UN Equity.1', 'AFL UN Equity', 'AFL UN Equity.1', 'MET UN Equity', 'MET UN Equity.1', 'RF UN Equity', 'RF UN Equity.1', 'HBAN UW Equity', 'HBAN UW Equity.1', 'PCAR UW Equity', 'PCAR UW Equity.1', 'NTRS UW Equity', 'NTRS UW Equity.1', 'HAL UN Equity', 'HAL UN Equity.1', 'EW UN Equity', 'EW UN Equity.1', 'JPM UN Equity', 'JPM UN Equity.1', 'NVR UN Equity', 'NVR UN Equity.1', 'DVN UN Equity', 'DVN UN Equity.1', 'TT UN Equity', 'TT UN Equity.1', 'STT UN Equity', 'STT UN Equity.1', 'CHRW UW Equity', 'CHRW UW Equity.1', 'HCA UN Equity', 'HCA UN Equity.1', 'FDS UN Equity']\n",
      "Top ['PHM UN Equity', 'PHM UN Equity.1', 'REGN UW Equity', 'REGN UW Equity.1', 'STX UW Equity', 'STX UW Equity.1', 'LEN UN Equity', 'LEN UN Equity.1', 'EQIX UW Equity', 'EQIX UW Equity.1', 'URI UN Equity', 'URI UN Equity.1', 'DHI UN Equity', 'DHI UN Equity.1', 'ALGN UW Equity', 'ALGN UW Equity.1', 'EXPE UW Equity', 'EXPE UW Equity.1', 'ROST UW Equity', 'ROST UW Equity.1', 'HD UN Equity', 'HD UN Equity.1', 'SHW UN Equity', 'SHW UN Equity.1', 'STZ UN Equity', 'STZ UN Equity.1', 'AAPL UW Equity', 'AAPL UW Equity.1', 'FICO UN Equity', 'FICO UN Equity.1', 'SBAC UW Equity', 'SBAC UW Equity.1', 'EXR UN Equity', 'EXR UN Equity.1', 'AMGN UW Equity', 'AMGN UW Equity.1', 'AKAM UW Equity', 'AKAM UW Equity.1', 'TJX UN Equity', 'TJX UN Equity.1', 'TSCO UW Equity', 'TSCO UW Equity.1', 'TYL UN Equity', 'TYL UN Equity.1', 'CMCSA UW Equity', 'CMCSA UW Equity.1', 'LYB UN Equity', 'LYB UN Equity.1', 'MPWR UW Equity', 'MPWR UW Equity.1', 'RF UN Equity', 'RF UN Equity.1', 'CHTR UW Equity', 'CHTR UW Equity.1', 'POOL UW Equity', 'POOL UW Equity.1', 'CSGP UW Equity', 'CSGP UW Equity.1', 'BIIB UW Equity', 'BIIB UW Equity.1', 'MAS UN Equity', 'MAS UN Equity.1', 'CPAY UN Equity', 'CPAY UN Equity.1', 'ULTA UW Equity', 'ULTA UW Equity.1', 'FITB UW Equity', 'FITB UW Equity.1', 'CINF UW Equity', 'CINF UW Equity.1', 'TFC UN Equity', 'TFC UN Equity.1', 'MHK UN Equity', 'MHK UN Equity.1', 'EBAY UW Equity', 'EBAY UW Equity.1', 'TDG UN Equity', 'TDG UN Equity.1', 'DG UN Equity', 'DG UN Equity.1', 'DIS UN Equity', 'DIS UN Equity.1', 'LKQ UW Equity', 'LKQ UW Equity.1', 'TXT UN Equity', 'TXT UN Equity.1', 'GILD UW Equity', 'GILD UW Equity.1', 'ALL UN Equity', 'ALL UN Equity.1', 'USB UN Equity', 'USB UN Equity.1', 'VRSN UW Equity', 'VRSN UW Equity.1', 'WY UN Equity', 'WY UN Equity.1', 'CCI UN Equity', 'CCI UN Equity.1', 'HUBB UN Equity', 'HUBB UN Equity.1', 'V UN Equity', 'V UN Equity.1', 'EFX UN Equity', 'EFX UN Equity.1'] Last ['FSLR UW Equity', 'FSLR UW Equity.1', 'NFLX UW Equity', 'NFLX UW Equity.1', 'META UW Equity', 'META UW Equity.1', 'HPQ UN Equity', 'HPQ UN Equity.1', 'ENPH UQ Equity', 'ENPH UQ Equity.1', 'EA UW Equity', 'EA UW Equity.1', 'HAL UN Equity', 'HAL UN Equity.1', 'WYNN UW Equity', 'WYNN UW Equity.1', 'BBY UN Equity', 'BBY UN Equity.1', 'NTAP UW Equity', 'NTAP UW Equity.1', 'FCX UN Equity', 'FCX UN Equity.1', 'ON UW Equity', 'ON UW Equity.1', 'CHRW UW Equity', 'CHRW UW Equity.1', 'BSX UN Equity', 'BSX UN Equity.1', 'DVN UN Equity', 'DVN UN Equity.1', 'GM UN Equity', 'GM UN Equity.1', 'LDOS UN Equity', 'LDOS UN Equity.1', 'GLW UN Equity', 'GLW UN Equity.1', 'LRCX UW Equity', 'LRCX UW Equity.1', 'MGM UN Equity', 'MGM UN Equity.1', 'TTWO UW Equity', 'TTWO UW Equity.1', 'F UN Equity', 'F UN Equity.1', 'NEM UN Equity', 'NEM UN Equity.1', 'TSN UN Equity', 'TSN UN Equity.1', 'LYV UN Equity', 'LYV UN Equity.1', 'GPN UN Equity', 'GPN UN Equity.1', 'SLB UN Equity', 'SLB UN Equity.1', 'ERIE UW Equity', 'ERIE UW Equity.1', 'MOS UN Equity', 'MOS UN Equity.1', 'CMG UN Equity', 'CMG UN Equity.1', 'SMCI UW Equity', 'SMCI UW Equity.1', 'HIG UN Equity', 'HIG UN Equity.1', 'CAT UN Equity', 'CAT UN Equity.1', 'ALB UN Equity', 'ALB UN Equity.1', 'MS UN Equity', 'MS UN Equity.1', 'STLD UW Equity', 'STLD UW Equity.1', 'HUM UN Equity', 'HUM UN Equity.1', 'CAH UN Equity', 'CAH UN Equity.1', 'TKO UN Equity', 'TKO UN Equity.1', 'BDX UN Equity', 'BDX UN Equity.1', 'GS UN Equity', 'GS UN Equity.1', 'K UN Equity', 'K UN Equity.1', 'GRMN UN Equity', 'EXPD UN Equity', 'FI UN Equity', 'UAL UW Equity', 'DECK UN Equity', 'DECK UN Equity.1', 'EXPD UN Equity.1', 'FI UN Equity.1', 'GRMN UN Equity.1', 'UAL UW Equity.1', 'LVS UN Equity', 'LVS UN Equity.1', 'TECH UW Equity', 'TECH UW Equity.1', 'NRG UN Equity', 'NRG UN Equity.1', 'TXN UW Equity', 'TXN UW Equity.1', 'ELV UN Equity', 'ELV UN Equity.1']\n",
      "Top ['PHM UN Equity', 'PHM UN Equity.1', 'STZ UN Equity', 'STZ UN Equity.1', 'MPC UN Equity', 'MPC UN Equity.1', 'PSX UN Equity', 'PSX UN Equity.1', 'GILD UW Equity', 'GILD UW Equity.1', 'CPAY UN Equity', 'CPAY UN Equity.1', 'AXON UW Equity', 'AXON UW Equity.1', 'EXPE UW Equity', 'EXPE UW Equity.1', 'LEN UN Equity', 'LEN UN Equity.1', 'CTRA UN Equity', 'CTRA UN Equity.1', 'VLO UN Equity', 'VLO UN Equity.1', 'MAS UN Equity', 'MAS UN Equity.1', 'DHI UN Equity', 'DHI UN Equity.1', 'MHK UN Equity', 'MHK UN Equity.1', 'DAL UN Equity', 'DAL UN Equity.1', 'APO UN Equity', 'APO UN Equity.1', 'CSGP UW Equity', 'CSGP UW Equity.1', 'SHW UN Equity', 'SHW UN Equity.1', 'HCA UN Equity', 'HCA UN Equity.1', 'LII UN Equity', 'LII UN Equity.1', 'REGN UW Equity', 'REGN UW Equity.1', 'EPAM UN Equity', 'EPAM UN Equity.1', 'NFLX UW Equity', 'NFLX UW Equity.1', 'GNRC UN Equity', 'GNRC UN Equity.1', 'WDC UW Equity', 'WDC UW Equity.1', 'AOS UN Equity', 'AOS UN Equity.1', 'CHTR UW Equity', 'CHTR UW Equity.1', 'LYB UN Equity', 'LYB UN Equity.1', 'BAC UN Equity', 'BAC UN Equity.1', 'ALL UN Equity', 'ALL UN Equity.1', 'NVR UN Equity', 'NVR UN Equity.1', 'PKG UN Equity', 'PKG UN Equity.1', 'PPG UN Equity', 'PPG UN Equity.1', 'RMD UN Equity', 'RMD UN Equity.1', 'WST UN Equity', 'WST UN Equity.1', 'EQIX UW Equity', 'EQIX UW Equity.1', 'SBAC UW Equity', 'SBAC UW Equity.1', 'BIIB UW Equity', 'BIIB UW Equity.1', 'WY UN Equity', 'WY UN Equity.1', 'HD UN Equity', 'HD UN Equity.1', 'DXCM UW Equity', 'DXCM UW Equity.1', 'TYL UN Equity', 'TYL UN Equity.1', 'EXR UN Equity', 'EXR UN Equity.1', 'STT UN Equity', 'STT UN Equity.1', 'EG UN Equity', 'EG UN Equity.1', 'TRV UN Equity', 'TRV UN Equity.1', 'LUV UN Equity', 'LUV UN Equity.1', 'LLY UN Equity', 'LLY UN Equity.1', 'JBHT UW Equity', 'JBHT UW Equity.1', 'NOW UN Equity', 'NOW UN Equity.1', 'NRG UN Equity'] Last ['TPR UN Equity', 'TPR UN Equity.1', 'META UW Equity', 'META UW Equity.1', 'SMCI UW Equity', 'SMCI UW Equity.1', 'NEM UN Equity', 'NEM UN Equity.1', 'FFIV UW Equity', 'FFIV UW Equity.1', 'JBL UN Equity', 'JBL UN Equity.1', 'CAT UN Equity', 'CAT UN Equity.1', 'DVN UN Equity', 'DVN UN Equity.1', 'FCX UN Equity', 'FCX UN Equity.1', 'HUM UN Equity', 'HUM UN Equity.1', 'OXY UN Equity', 'OXY UN Equity.1', 'NTAP UW Equity', 'NTAP UW Equity.1', 'NVDA UW Equity', 'NVDA UW Equity.1', 'FSLR UW Equity', 'FSLR UW Equity.1', 'INTC UW Equity', 'INTC UW Equity.1', 'ENPH UQ Equity', 'ENPH UQ Equity.1', 'CMG UN Equity', 'CMG UN Equity.1', 'SWKS UW Equity', 'SWKS UW Equity.1', 'FTNT UW Equity', 'FTNT UW Equity.1', 'HPQ UN Equity', 'HPQ UN Equity.1', 'CHRW UW Equity', 'CHRW UW Equity.1', 'AAPL UW Equity', 'AAPL UW Equity.1', 'MNST UW Equity', 'MNST UW Equity.1', 'AES UN Equity', 'AES UN Equity.1', 'MGM UN Equity', 'MGM UN Equity.1', 'ON UW Equity', 'ON UW Equity.1', 'MOH UN Equity', 'MOH UN Equity.1', 'MSFT UW Equity', 'MSFT UW Equity.1', 'CNC UN Equity', 'GPN UN Equity', 'GPN UN Equity.1', 'SLB UN Equity', 'SLB UN Equity.1', 'AKAM UW Equity', 'AKAM UW Equity.1', 'BBY UN Equity', 'BBY UN Equity.1', 'ULTA UW Equity', 'ULTA UW Equity.1', 'ISRG UW Equity', 'ISRG UW Equity.1', 'CMI UN Equity', 'CMI UN Equity.1', 'PTC UW Equity', 'PTC UW Equity.1', 'TECH UW Equity', 'TECH UW Equity.1', 'ALB UN Equity', 'ALB UN Equity.1', 'UDR UN Equity', 'UDR UN Equity.1', 'AVB UN Equity', 'AVB UN Equity.1', 'LULU UW Equity', 'LULU UW Equity.1', 'EQR UN Equity', 'EQR UN Equity.1', 'MSCI UN Equity', 'MSCI UN Equity.1', 'GLW UN Equity', 'GLW UN Equity.1', 'APD UN Equity', 'APD UN Equity.1', 'A UN Equity', 'A UN Equity.1', 'GD UN Equity', 'GD UN Equity.1', 'RL UN Equity', 'RL UN Equity.1', 'DLR UN Equity', 'DLR UN Equity.1', 'ETR UN Equity', 'ETR UN Equity.1']\n",
      "Top ['TSLA UW Equity', 'TSLA UW Equity.1', 'NFLX UW Equity', 'NFLX UW Equity.1', 'MU UW Equity', 'MU UW Equity.1', 'AXON UW Equity', 'AXON UW Equity.1', 'DAL UN Equity', 'DAL UN Equity.1', 'META UW Equity', 'META UW Equity.1', 'CPAY UN Equity', 'CPAY UN Equity.1', 'FANG UW Equity', 'FANG UW Equity.1', 'APO UN Equity', 'APO UN Equity.1', 'MKTX UW Equity', 'MKTX UW Equity.1', 'INCY UW Equity', 'INCY UW Equity.1', 'GNRC UN Equity', 'GNRC UN Equity.1', 'LYV UN Equity', 'LYV UN Equity.1', 'BBY UN Equity', 'BBY UN Equity.1', 'FSLR UW Equity', 'FSLR UW Equity.1', 'TYL UN Equity', 'TYL UN Equity.1', 'GILD UW Equity', 'GILD UW Equity.1', 'BSX UN Equity', 'BSX UN Equity.1', 'CSGP UW Equity', 'CSGP UW Equity.1', 'DXCM UW Equity', 'DXCM UW Equity.1', 'REGN UW Equity', 'REGN UW Equity.1', 'EPAM UN Equity', 'EPAM UN Equity.1', 'MGM UN Equity', 'MGM UN Equity.1', 'UHS UN Equity', 'UHS UN Equity.1', 'BX UN Equity', 'BX UN Equity.1', 'APTV UN Equity', 'APTV UN Equity.1', 'ENPH UQ Equity', 'ENPH UQ Equity.1', 'TSN UN Equity', 'TSN UN Equity.1', 'HCA UN Equity', 'HCA UN Equity.1', 'KR UN Equity', 'KR UN Equity.1', 'STZ UN Equity', 'STZ UN Equity.1', 'EA UW Equity', 'EA UW Equity.1', 'PKG UN Equity', 'PKG UN Equity.1', 'PODD UW Equity', 'PODD UW Equity.1', 'MHK UN Equity', 'MHK UN Equity.1', 'LOW UN Equity', 'LOW UN Equity.1', 'MCO UN Equity', 'MCO UN Equity.1', 'WYNN UW Equity', 'WYNN UW Equity.1', 'F UN Equity', 'F UN Equity.1', 'WST UN Equity', 'WST UN Equity.1', 'CTRA UN Equity', 'CTRA UN Equity.1', 'CI UN Equity', 'CI UN Equity.1', 'BKNG UW Equity', 'BKNG UW Equity.1', 'CHTR UW Equity', 'CHTR UW Equity.1', 'TTWO UW Equity', 'TTWO UW Equity.1', 'HII UN Equity', 'HII UN Equity.1', 'AMP UN Equity', 'AMP UN Equity.1', 'VTRS UW Equity', 'VTRS UW Equity.1'] Last ['NEM UN Equity', 'NEM UN Equity.1', 'EW UN Equity', 'EW UN Equity.1', 'ISRG UW Equity', 'ISRG UW Equity.1', 'AAPL UW Equity', 'AAPL UW Equity.1', 'FTNT UW Equity', 'FTNT UW Equity.1', 'MOS UN Equity', 'MOS UN Equity.1', 'DLR UN Equity', 'DLR UN Equity.1', 'SWKS UW Equity', 'SWKS UW Equity.1', 'EQIX UW Equity', 'EQIX UW Equity.1', 'FFIV UW Equity', 'FFIV UW Equity.1', 'ARE UN Equity', 'ARE UN Equity.1', 'MNST UW Equity', 'MNST UW Equity.1', 'DOC UN Equity', 'DOC UN Equity.1', 'DRI UN Equity', 'DRI UN Equity.1', 'FCX UN Equity', 'FCX UN Equity.1', 'FE UN Equity', 'FE UN Equity.1', 'TPR UN Equity', 'TPR UN Equity.1', 'AVB UN Equity', 'AVB UN Equity.1', 'EQR UN Equity', 'EQR UN Equity.1', 'CCL UN Equity', 'CCL UN Equity.1', 'SO UN Equity', 'SO UN Equity.1', 'IRM UN Equity', 'IRM UN Equity.1', 'IBM UN Equity', 'IBM UN Equity.1', 'ED UN Equity', 'ED UN Equity.1', 'MAA UN Equity', 'MAA UN Equity.1', 'UDR UN Equity', 'UDR UN Equity.1', 'CPT UN Equity', 'CPT UN Equity.1', 'T UN Equity', 'T UN Equity.1', 'BXP UN Equity', 'BXP UN Equity.1', 'DHI UN Equity', 'DHI UN Equity.1', 'SPG UN Equity', 'SPG UN Equity.1', 'INTC UW Equity', 'INTC UW Equity.1', 'FRT UN Equity', 'FRT UN Equity.1', 'XOM UN Equity', 'XOM UN Equity.1', 'CDNS UW Equity', 'CDNS UW Equity.1', 'CAT UN Equity', 'CAT UN Equity.1', 'PCG UN Equity', 'PCG UN Equity.1', 'ETR UN Equity', 'ETR UN Equity.1', 'O UN Equity', 'O UN Equity.1', 'EXPE UW Equity', 'EXPE UW Equity.1', 'TXT UN Equity', 'TXT UN Equity.1', 'VTR UN Equity', 'VTR UN Equity.1', 'LULU UW Equity', 'LULU UW Equity.1', 'CF UN Equity', 'CF UN Equity.1', 'DVN UN Equity', 'DVN UN Equity.1', 'ESS UN Equity', 'ESS UN Equity.1', 'GRMN UN Equity', 'EXPD UN Equity', 'FI UN Equity', 'UAL UW Equity']\n",
      "Top ['TSLA UW Equity', 'TSLA UW Equity.1', 'FANG UW Equity', 'FANG UW Equity.1', 'TKO UN Equity', 'TKO UN Equity.1', 'MU UW Equity', 'MU UW Equity.1', 'FSLR UW Equity', 'FSLR UW Equity.1', 'META UW Equity', 'META UW Equity.1', 'DXCM UW Equity', 'DXCM UW Equity.1', 'AXON UW Equity', 'AXON UW Equity.1', 'TPL UN Equity', 'TPL UN Equity.1', 'DAL UN Equity', 'DAL UN Equity.1', 'HII UN Equity', 'HII UN Equity.1', 'INCY UW Equity', 'INCY UW Equity.1', 'NXPI UW Equity', 'NXPI UW Equity.1', 'WDC UW Equity', 'WDC UW Equity.1', 'NFLX UW Equity', 'NFLX UW Equity.1', 'GNRC UN Equity', 'GNRC UN Equity.1', 'BSX UN Equity', 'BSX UN Equity.1', 'LUV UN Equity', 'LUV UN Equity.1', 'NOC UN Equity', 'NOC UN Equity.1', 'MGM UN Equity', 'MGM UN Equity.1', 'LMT UN Equity', 'LMT UN Equity.1', 'TSN UN Equity', 'TSN UN Equity.1', 'WYNN UW Equity', 'WYNN UW Equity.1', 'PODD UW Equity', 'PODD UW Equity.1', 'URI UN Equity', 'URI UN Equity.1', 'AVGO UW Equity', 'AVGO UW Equity.1', 'STZ UN Equity', 'STZ UN Equity.1', 'BKNG UW Equity', 'BKNG UW Equity.1', 'REGN UW Equity', 'REGN UW Equity.1', 'LYV UN Equity', 'LYV UN Equity.1', 'LHX UN Equity', 'LHX UN Equity.1', 'TRGP UN Equity', 'TRGP UN Equity.1', 'SWKS UW Equity', 'SWKS UW Equity.1', 'BX UN Equity', 'BX UN Equity.1', 'CAH UN Equity', 'CAH UN Equity.1', 'STX UW Equity', 'STX UW Equity.1', 'GLW UN Equity', 'GLW UN Equity.1', 'EOG UN Equity', 'EOG UN Equity.1', 'ALGN UW Equity', 'ALGN UW Equity.1', 'RCL UN Equity', 'RCL UN Equity.1', 'CMG UN Equity', 'CMG UN Equity.1', 'BIIB UW Equity', 'BIIB UW Equity.1', 'GD UN Equity', 'GD UN Equity.1', 'SPGI UN Equity', 'SPGI UN Equity.1', 'PKG UN Equity', 'PKG UN Equity.1', 'MCK UN Equity'] Last ['NEM UN Equity', 'NEM UN Equity.1', 'IRM UN Equity', 'IRM UN Equity.1', 'LULU UW Equity', 'LULU UW Equity.1', 'MOS UN Equity', 'MOS UN Equity.1', 'ISRG UW Equity', 'ISRG UW Equity.1', 'EQIX UW Equity', 'EQIX UW Equity.1', 'DLR UN Equity', 'DLR UN Equity.1', 'GEN UW Equity', 'GEN UW Equity.1', 'FE UN Equity', 'FE UN Equity.1', 'DOC UN Equity', 'DOC UN Equity.1', 'ZTS UN Equity', 'ZTS UN Equity.1', 'DHI UN Equity', 'DHI UN Equity.1', 'TGT UN Equity', 'TGT UN Equity.1', 'LEN UN Equity', 'LEN UN Equity.1', 'IBM UN Equity', 'IBM UN Equity.1', 'PHM UN Equity', 'PHM UN Equity.1', 'CAG UN Equity', 'CAG UN Equity.1', 'WY UN Equity', 'WY UN Equity.1', 'RL UN Equity', 'RL UN Equity.1', 'HOLX UW Equity', 'HOLX UW Equity.1', 'KMI UN Equity', 'KMI UN Equity.1', 'FTNT UW Equity', 'FTNT UW Equity.1', 'VRSK UW Equity', 'VRSK UW Equity.1', 'PM UN Equity', 'PM UN Equity.1', 'VTR UN Equity', 'VTR UN Equity.1', 'GOOG UW Equity', 'GOOG UW Equity.1', 'WRB UN Equity', 'WRB UN Equity.1', 'JBL UN Equity', 'JBL UN Equity.1', 'BRO UN Equity', 'BRO UN Equity.1', 'ERIE UW Equity', 'ERIE UW Equity.1', 'WELL UN Equity', 'WELL UN Equity.1', 'EW UN Equity', 'EW UN Equity.1', 'FAST UW Equity', 'FAST UW Equity.1', 'O UN Equity', 'O UN Equity.1', 'ED UN Equity', 'ED UN Equity.1', 'GRMN UN Equity', 'EXPD UN Equity', 'FI UN Equity', 'UAL UW Equity', 'DECK UN Equity', 'DECK UN Equity.1', 'EXPD UN Equity.1', 'FI UN Equity.1', 'GRMN UN Equity.1', 'UAL UW Equity.1', 'CHRW UW Equity', 'CHRW UW Equity.1', 'L UN Equity', 'L UN Equity.1', 'MKC UN Equity', 'MKC UN Equity.1', 'TPR UN Equity', 'TPR UN Equity.1', 'MPC UN Equity', 'MPC UN Equity.1', 'MSI UN Equity']\n",
      "Top ['DECK UN Equity', 'DECK UN Equity.1', 'LUV UN Equity', 'LUV UN Equity.1', 'SMCI UW Equity', 'SMCI UW Equity.1', 'SWKS UW Equity', 'SWKS UW Equity.1', 'TPL UN Equity', 'TPL UN Equity.1', 'AVGO UW Equity', 'AVGO UW Equity.1', 'MNST UW Equity', 'MNST UW Equity.1', 'GILD UW Equity', 'GILD UW Equity.1', 'RCL UN Equity', 'RCL UN Equity.1', 'TRGP UN Equity', 'TRGP UN Equity.1', 'MAR UW Equity', 'MAR UW Equity.1', 'URI UN Equity', 'URI UN Equity.1', 'MU UW Equity', 'MU UW Equity.1', 'HPQ UN Equity', 'HPQ UN Equity.1', 'NXPI UW Equity', 'NXPI UW Equity.1', 'GD UN Equity', 'GD UN Equity.1', 'EW UN Equity', 'EW UN Equity.1', 'INCY UW Equity', 'INCY UW Equity.1', 'LMT UN Equity', 'LMT UN Equity.1', 'DXCM UW Equity', 'DXCM UW Equity.1', 'WMB UN Equity', 'WMB UN Equity.1', 'AAPL UW Equity', 'AAPL UW Equity.1', 'ENPH UQ Equity', 'ENPH UQ Equity.1', 'EXPE UW Equity', 'EXPE UW Equity.1', 'DAL UN Equity', 'DAL UN Equity.1', 'IRM UN Equity', 'IRM UN Equity.1', 'MCK UN Equity', 'MCK UN Equity.1', 'EA UW Equity', 'EA UW Equity.1', 'HII UN Equity', 'HII UN Equity.1', 'ODFL UW Equity', 'ODFL UW Equity.1', 'CVS UN Equity', 'CVS UN Equity.1', 'ZBRA UW Equity', 'ZBRA UW Equity.1', 'UNP UN Equity', 'UNP UN Equity.1', 'TXT UN Equity', 'TXT UN Equity.1', 'TDG UN Equity', 'TDG UN Equity.1', 'HCA UN Equity', 'HCA UN Equity.1', 'NOC UN Equity', 'NOC UN Equity.1', 'WDC UW Equity', 'WDC UW Equity.1', 'TAP UN Equity', 'TAP UN Equity.1', 'CAH UN Equity', 'CAH UN Equity.1', 'INTC UW Equity', 'INTC UW Equity.1', 'SBAC UW Equity', 'SBAC UW Equity.1', 'CMG UN Equity', 'CMG UN Equity.1'] Last ['LULU UW Equity', 'LULU UW Equity.1', 'TPR UN Equity', 'TPR UN Equity.1', 'NEM UN Equity', 'NEM UN Equity.1', 'LDOS UN Equity', 'LDOS UN Equity.1', 'J UN Equity', 'J UN Equity.1', 'LKQ UW Equity', 'LKQ UW Equity.1', 'CTRA UN Equity', 'CTRA UN Equity.1', 'APO UN Equity', 'APO UN Equity.1', 'F UN Equity', 'F UN Equity.1', 'FAST UW Equity', 'FAST UW Equity.1', 'FCX UN Equity', 'FCX UN Equity.1', 'GM UN Equity', 'GM UN Equity.1', 'BBY UN Equity', 'BBY UN Equity.1', 'ALB UN Equity', 'ALB UN Equity.1', 'IBM UN Equity', 'IBM UN Equity.1', 'CZR UW Equity', 'CZR UW Equity.1', 'L UN Equity', 'L UN Equity.1', 'NWS UW Equity', 'NWS UW Equity.1', 'EBAY UW Equity', 'EBAY UW Equity.1', 'GWW UN Equity', 'GWW UN Equity.1', 'CSGP UW Equity', 'CSGP UW Equity.1', 'JBL UN Equity', 'JBL UN Equity.1', 'AMZN UW Equity', 'AMZN UW Equity.1', 'OXY UN Equity', 'OXY UN Equity.1', 'LVS UN Equity', 'LVS UN Equity.1', 'VRSK UW Equity', 'VRSK UW Equity.1', 'MOS UN Equity', 'MOS UN Equity.1', 'EMN UN Equity', 'EMN UN Equity.1', 'AFL UN Equity', 'AFL UN Equity.1', 'ULTA UW Equity', 'ULTA UW Equity.1', 'BRO UN Equity', 'BRO UN Equity.1', 'NWSA UW Equity', 'NWSA UW Equity.1', 'RMD UN Equity', 'RMD UN Equity.1', 'GOOG UW Equity', 'GOOG UW Equity.1', 'TRMB UW Equity', 'TRMB UW Equity.1', 'ETN UN Equity', 'ETN UN Equity.1', 'SJM UN Equity', 'SJM UN Equity.1', 'GRMN UN Equity', 'EXPD UN Equity', 'FI UN Equity', 'UAL UW Equity', 'EXPD UN Equity.1', 'FI UN Equity.1', 'GRMN UN Equity.1', 'UAL UW Equity.1', 'DVN UN Equity', 'DVN UN Equity.1', 'YUM UN Equity', 'YUM UN Equity.1']\n",
      "Top ['DECK UN Equity', 'DECK UN Equity.1', 'SWKS UW Equity', 'SWKS UW Equity.1', 'CNC UN Equity', 'PAYC UN Equity', 'PAYC UN Equity.1', 'INCY UW Equity', 'INCY UW Equity.1', 'EA UW Equity', 'EA UW Equity.1', 'AVGO UW Equity', 'AVGO UW Equity.1', 'MOH UN Equity', 'MOH UN Equity.1', 'EPAM UN Equity', 'EPAM UN Equity.1', 'MNST UW Equity', 'MNST UW Equity.1', 'VRTX UW Equity', 'VRTX UW Equity.1', 'AXON UW Equity', 'AXON UW Equity.1', 'DXCM UW Equity', 'DXCM UW Equity.1', 'SMCI UW Equity', 'SMCI UW Equity.1', 'LUV UN Equity', 'LUV UN Equity.1', 'COR UN Equity', 'COR UN Equity.1', 'FTNT UW Equity', 'FTNT UW Equity.1', 'CZR UW Equity', 'CZR UW Equity.1', 'ELV UN Equity', 'ELV UN Equity.1', 'NXPI UW Equity', 'NXPI UW Equity.1', 'AAPL UW Equity', 'AAPL UW Equity.1', 'CI UN Equity', 'CI UN Equity.1', 'ULTA UW Equity', 'ULTA UW Equity.1', 'ZBRA UW Equity', 'ZBRA UW Equity.1', 'NFLX UW Equity', 'NFLX UW Equity.1', 'HUM UN Equity', 'HUM UN Equity.1', 'KR UN Equity', 'KR UN Equity.1', 'FICO UN Equity', 'FICO UN Equity.1', 'REGN UW Equity', 'REGN UW Equity.1', 'HOLX UW Equity', 'HOLX UW Equity.1', 'UHS UN Equity', 'UHS UN Equity.1', 'ZTS UN Equity', 'ZTS UN Equity.1', 'KMX UN Equity', 'KMX UN Equity.1', 'HCA UN Equity', 'HCA UN Equity.1', 'EW UN Equity', 'EW UN Equity.1', 'MKTX UW Equity', 'MKTX UW Equity.1', 'UNH UN Equity', 'UNH UN Equity.1', 'FDS UN Equity', 'FDS UN Equity.1', 'IRM UN Equity', 'IRM UN Equity.1', 'LOW UN Equity', 'LOW UN Equity.1', 'TYL UN Equity', 'TYL UN Equity.1', 'GILD UW Equity', 'GILD UW Equity.1'] Last ['WYNN UW Equity', 'WYNN UW Equity.1', 'PODD UW Equity', 'PODD UW Equity.1', 'TRMB UW Equity', 'TRMB UW Equity.1', 'TKO UN Equity', 'TKO UN Equity.1', 'J UN Equity', 'J UN Equity.1', 'LVS UN Equity', 'LVS UN Equity.1', 'FCX UN Equity', 'FCX UN Equity.1', 'GNRC UN Equity', 'GNRC UN Equity.1', 'OKE UN Equity', 'OKE UN Equity.1', 'HAL UN Equity', 'HAL UN Equity.1', 'TPR UN Equity', 'TPR UN Equity.1', 'PWR UN Equity', 'PWR UN Equity.1', 'MGM UN Equity', 'MGM UN Equity.1', 'NRG UN Equity', 'NRG UN Equity.1', 'PNR UN Equity', 'PNR UN Equity.1', 'FSLR UW Equity', 'FSLR UW Equity.1', 'OXY UN Equity', 'OXY UN Equity.1', 'RL UN Equity', 'RL UN Equity.1', 'APO UN Equity', 'APO UN Equity.1', 'CNP UN Equity', 'CNP UN Equity.1', 'AMD UW Equity', 'AMD UW Equity.1', 'EQT UN Equity', 'EQT UN Equity.1', 'QCOM UW Equity', 'QCOM UW Equity.1', 'FAST UW Equity', 'FAST UW Equity.1', 'CAT UN Equity', 'CAT UN Equity.1', 'EOG UN Equity', 'EOG UN Equity.1', 'XOM UN Equity', 'XOM UN Equity.1', 'EMN UN Equity', 'EMN UN Equity.1', 'CVX UN Equity', 'CVX UN Equity.1', 'COP UN Equity', 'COP UN Equity.1', 'NWSA UW Equity', 'NWSA UW Equity.1', 'DOV UN Equity', 'DOV UN Equity.1', 'EMR UN Equity', 'EMR UN Equity.1', 'NWS UW Equity', 'NWS UW Equity.1', 'L UN Equity', 'L UN Equity.1', 'SLB UN Equity', 'SLB UN Equity.1', 'DVN UN Equity', 'DVN UN Equity.1', 'IBM UN Equity', 'IBM UN Equity.1', 'AXP UN Equity', 'AXP UN Equity.1', 'MOS UN Equity', 'MOS UN Equity.1', 'JCI UN Equity', 'JCI UN Equity.1', 'MSI UN Equity']\n",
      "Top ['PAYC UN Equity', 'PAYC UN Equity.1', 'CZR UW Equity', 'CZR UW Equity.1', 'NFLX UW Equity', 'NFLX UW Equity.1', 'AMZN UW Equity', 'AMZN UW Equity.1', 'DXCM UW Equity', 'DXCM UW Equity.1', 'GPN UN Equity', 'GPN UN Equity.1', 'INCY UW Equity', 'INCY UW Equity.1', 'EA UW Equity', 'EA UW Equity.1', 'VMC UN Equity', 'VMC UN Equity.1', 'SBUX UW Equity', 'SBUX UW Equity.1', 'MKTX UW Equity', 'MKTX UW Equity.1', 'EPAM UN Equity', 'EPAM UN Equity.1', 'NVDA UW Equity', 'NVDA UW Equity.1', 'LDOS UN Equity', 'LDOS UN Equity.1', 'MAS UN Equity', 'MAS UN Equity.1', 'STZ UN Equity', 'STZ UN Equity.1', 'MPWR UW Equity', 'MPWR UW Equity.1', 'LII UN Equity', 'LII UN Equity.1', 'MNST UW Equity', 'MNST UW Equity.1', 'TYL UN Equity', 'TYL UN Equity.1', 'HOLX UW Equity', 'HOLX UW Equity.1', 'ORLY UW Equity', 'ORLY UW Equity.1', 'FICO UN Equity', 'FICO UN Equity.1', 'MSCI UN Equity', 'MSCI UN Equity.1', 'AOS UN Equity', 'AOS UN Equity.1', 'AVGO UW Equity', 'AVGO UW Equity.1', 'VLO UN Equity', 'VLO UN Equity.1', 'EQIX UW Equity', 'EQIX UW Equity.1', 'VRSN UW Equity', 'VRSN UW Equity.1', 'EFX UN Equity', 'EFX UN Equity.1', 'EXR UN Equity', 'EXR UN Equity.1', 'EXPE UW Equity', 'EXPE UW Equity.1', 'NKE UN Equity', 'NKE UN Equity.1', 'DHI UN Equity', 'DHI UN Equity.1', 'AVY UN Equity', 'AVY UN Equity.1', 'CDW UW Equity', 'CDW UW Equity.1', 'TKO UN Equity', 'TKO UN Equity.1', 'REGN UW Equity', 'REGN UW Equity.1', 'AZO UN Equity', 'AZO UN Equity.1'] Last ['ENPH UQ Equity', 'ENPH UQ Equity.1', 'FCX UN Equity', 'FCX UN Equity.1', 'TRGP UN Equity', 'TRGP UN Equity.1', 'WYNN UW Equity', 'WYNN UW Equity.1', 'NRG UN Equity', 'NRG UN Equity.1', 'MU UW Equity', 'MU UW Equity.1', 'OKE UN Equity', 'OKE UN Equity.1', 'STX UW Equity', 'STX UW Equity.1', 'DECK UN Equity', 'DECK UN Equity.1', 'EQT UN Equity', 'EQT UN Equity.1', 'CTRA UN Equity', 'CTRA UN Equity.1', 'PWR UN Equity', 'PWR UN Equity.1', 'WDC UW Equity', 'WDC UW Equity.1', 'QCOM UW Equity', 'QCOM UW Equity.1', 'KMI UN Equity', 'KMI UN Equity.1', 'WMB UN Equity', 'WMB UN Equity.1', 'GNRC UN Equity', 'GNRC UN Equity.1', 'CMI UN Equity', 'CMI UN Equity.1', 'URI UN Equity', 'URI UN Equity.1', 'HAL UN Equity', 'HAL UN Equity.1', 'AES UN Equity', 'AES UN Equity.1', 'MOS UN Equity', 'MOS UN Equity.1', 'CAT UN Equity', 'CAT UN Equity.1', 'NTAP UW Equity', 'NTAP UW Equity.1', 'CNP UN Equity', 'CNP UN Equity.1', 'UNP UN Equity', 'UNP UN Equity.1', 'LVS UN Equity', 'LVS UN Equity.1', 'SMCI UW Equity', 'SMCI UW Equity.1', 'BEN UN Equity', 'BEN UN Equity.1', 'RL UN Equity', 'RL UN Equity.1', 'STLD UW Equity', 'STLD UW Equity.1', 'DVN UN Equity', 'DVN UN Equity.1', 'BG UN Equity', 'BG UN Equity.1', 'COP UN Equity', 'COP UN Equity.1', 'HPQ UN Equity', 'HPQ UN Equity.1', 'NUE UN Equity', 'NUE UN Equity.1', 'ADM UN Equity', 'ADM UN Equity.1', 'CVX UN Equity', 'CVX UN Equity.1', 'SLB UN Equity', 'SLB UN Equity.1']\n",
      "Top ['NVDA UW Equity', 'NVDA UW Equity.1', 'AMD UW Equity', 'AMD UW Equity.1', 'CZR UW Equity', 'CZR UW Equity.1', 'AMZN UW Equity', 'AMZN UW Equity.1', 'MKTX UW Equity', 'MKTX UW Equity.1', 'DLR UN Equity', 'DLR UN Equity.1', 'TTWO UW Equity', 'TTWO UW Equity.1', 'ULTA UW Equity', 'ULTA UW Equity.1', 'EW UN Equity', 'EW UN Equity.1', 'EQIX UW Equity', 'EQIX UW Equity.1', 'AWK UN Equity', 'AWK UN Equity.1', 'META UW Equity', 'META UW Equity.1', 'TSN UN Equity', 'TSN UN Equity.1', 'GPN UN Equity', 'GPN UN Equity.1', 'ATO UN Equity', 'ATO UN Equity.1', 'CINF UW Equity', 'CINF UW Equity.1', 'NI UN Equity', 'NI UN Equity.1', 'WST UN Equity', 'WST UN Equity.1', 'CPRT UW Equity', 'CPRT UW Equity.1', 'NOC UN Equity', 'NOC UN Equity.1', 'TAP UN Equity', 'TAP UN Equity.1', 'O UN Equity', 'O UN Equity.1', 'MAS UN Equity', 'MAS UN Equity.1', 'GOOG UW Equity', 'GOOG UW Equity.1', 'POOL UW Equity', 'POOL UW Equity.1', 'GOOGL UW Equity', 'GOOGL UW Equity.1', 'MPWR UW Equity', 'MPWR UW Equity.1', 'HII UN Equity', 'HII UN Equity.1', 'SYY UN Equity', 'SYY UN Equity.1', 'TKO UN Equity', 'TKO UN Equity.1', 'WEC UN Equity', 'WEC UN Equity.1', 'ALGN UW Equity', 'ALGN UW Equity.1', 'JKHY UW Equity', 'JKHY UW Equity.1', 'AIZ UN Equity', 'AIZ UN Equity.1', 'PNW UN Equity', 'PNW UN Equity.1', 'IDXX UW Equity', 'IDXX UW Equity.1', 'MAA UN Equity', 'MAA UN Equity.1', 'VRSN UW Equity', 'VRSN UW Equity.1'] Last ['ENPH UQ Equity', 'ENPH UQ Equity.1', 'KMI UN Equity', 'KMI UN Equity.1', 'STX UW Equity', 'STX UW Equity.1', 'TRGP UN Equity', 'TRGP UN Equity.1', 'WMB UN Equity', 'WMB UN Equity.1', 'MU UW Equity', 'MU UW Equity.1', 'FCX UN Equity', 'FCX UN Equity.1', 'CF UN Equity', 'CF UN Equity.1', 'WDC UW Equity', 'WDC UW Equity.1', 'ZBRA UW Equity', 'ZBRA UW Equity.1', 'DVN UN Equity', 'DVN UN Equity.1', 'MOS UN Equity', 'MOS UN Equity.1', 'KKR UN Equity', 'KKR UN Equity.1', 'BIIB UW Equity', 'BIIB UW Equity.1', 'VTRS UW Equity', 'VTRS UW Equity.1', 'CMG UN Equity', 'CMG UN Equity.1', 'NRG UN Equity', 'NRG UN Equity.1', 'BX UN Equity', 'BX UN Equity.1', 'BEN UN Equity', 'BEN UN Equity.1', 'COR UN Equity', 'COR UN Equity.1', 'WSM UN Equity', 'WSM UN Equity.1', 'MS UN Equity', 'MS UN Equity.1', 'AXON UW Equity', 'AXON UW Equity.1', 'SWKS UW Equity', 'SWKS UW Equity.1', 'AKAM UW Equity', 'AKAM UW Equity.1', 'XYZ UN Equity', 'XYZ UN Equity.1', 'KMX UN Equity', 'KMX UN Equity.1', 'URI UN Equity', 'URI UN Equity.1', 'NTAP UW Equity', 'NTAP UW Equity.1', 'VRTX UW Equity', 'VRTX UW Equity.1', 'CTRA UN Equity', 'CTRA UN Equity.1', 'RL UN Equity', 'RL UN Equity.1', 'BG UN Equity', 'BG UN Equity.1', 'MPC UN Equity', 'MPC UN Equity.1', 'HLT UN Equity', 'HLT UN Equity.1', 'IVZ UN Equity', 'IVZ UN Equity.1', 'COP UN Equity', 'COP UN Equity.1', 'MOH UN Equity', 'MOH UN Equity.1']\n",
      "Top ['AMD UW Equity', 'AMD UW Equity.1', 'NVDA UW Equity', 'NVDA UW Equity.1', 'STLD UW Equity', 'STLD UW Equity.1', 'OKE UN Equity', 'OKE UN Equity.1', 'TPL UN Equity', 'TPL UN Equity.1', 'NEM UN Equity', 'NEM UN Equity.1', 'AMAT UW Equity', 'AMAT UW Equity.1', 'FCX UN Equity', 'FCX UN Equity.1', 'ALB UN Equity', 'ALB UN Equity.1', 'CZR UW Equity', 'CZR UW Equity.1', 'IDXX UW Equity', 'IDXX UW Equity.1', 'HPE UN Equity', 'HPE UN Equity.1', 'NDSN UW Equity', 'NDSN UW Equity.1', 'PWR UN Equity', 'PWR UN Equity.1', 'TRGP UN Equity', 'TRGP UN Equity.1', 'TMUS UW Equity', 'TMUS UW Equity.1', 'GEN UW Equity', 'GEN UW Equity.1', 'CNP UN Equity', 'CNP UN Equity.1', 'NUE UN Equity', 'NUE UN Equity.1', 'BBY UN Equity', 'BBY UN Equity.1', 'ULTA UW Equity', 'ULTA UW Equity.1', 'MU UW Equity', 'MU UW Equity.1', 'WYNN UW Equity', 'WYNN UW Equity.1', 'RF UN Equity', 'RF UN Equity.1', 'CSX UW Equity', 'CSX UW Equity.1', 'ALGN UW Equity', 'ALGN UW Equity.1', 'UNH UN Equity', 'UNH UN Equity.1', 'HAL UN Equity', 'HAL UN Equity.1', 'HII UN Equity', 'HII UN Equity.1', 'CMI UN Equity', 'CMI UN Equity.1', 'KEY UN Equity', 'KEY UN Equity.1', 'QCOM UW Equity', 'QCOM UW Equity.1', 'AVGO UW Equity', 'AVGO UW Equity.1', 'LRCX UW Equity', 'LRCX UW Equity.1', 'MCHP UW Equity', 'MCHP UW Equity.1', 'PH UN Equity', 'PH UN Equity.1'] Last ['VRTX UW Equity', 'VRTX UW Equity.1', 'FSLR UW Equity', 'FSLR UW Equity.1', 'REGN UW Equity', 'REGN UW Equity.1', 'CMG UN Equity', 'CMG UN Equity.1', 'ENPH UQ Equity', 'ENPH UQ Equity.1', 'GILD UW Equity', 'GILD UW Equity.1', 'CF UN Equity', 'CF UN Equity.1', 'DXCM UW Equity', 'DXCM UW Equity.1', 'VTRS UW Equity', 'VTRS UW Equity.1', 'MCK UN Equity', 'MCK UN Equity.1', 'RL UN Equity', 'RL UN Equity.1', 'FTNT UW Equity', 'FTNT UW Equity.1', 'APTV UN Equity', 'APTV UN Equity.1', 'NKE UN Equity', 'NKE UN Equity.1', 'WSM UN Equity', 'WSM UN Equity.1', 'EPAM UN Equity', 'EPAM UN Equity.1', 'COR UN Equity', 'COR UN Equity.1', 'TYL UN Equity', 'TYL UN Equity.1', 'LEN UN Equity', 'LEN UN Equity.1', 'NWSA UW Equity', 'NWSA UW Equity.1', 'TSCO UW Equity', 'TSCO UW Equity.1', 'CAH UN Equity', 'CAH UN Equity.1', 'CVS UN Equity', 'CVS UN Equity.1', 'CBRE UN Equity', 'CBRE UN Equity.1', 'NWS UW Equity', 'NWS UW Equity.1', 'NOW UN Equity', 'NOW UN Equity.1', 'DHI UN Equity', 'DHI UN Equity.1', 'VRSN UW Equity', 'VRSN UW Equity.1', 'BF/B UN Equity', 'BF/B UN Equity.1', 'UHS UN Equity', 'UHS UN Equity.1', 'ABT UN Equity', 'ABT UN Equity.1', 'MNST UW Equity', 'MNST UW Equity.1', 'INCY UW Equity', 'INCY UW Equity.1', 'CTSH UW Equity', 'CTSH UW Equity.1', 'DVA UN Equity', 'DVA UN Equity.1', 'MOH UN Equity', 'MOH UN Equity.1']\n",
      "Top ['NVDA UW Equity', 'NVDA UW Equity.1', 'AMD UW Equity', 'AMD UW Equity.1', 'XYZ UN Equity', 'XYZ UN Equity.1', 'MU UW Equity', 'MU UW Equity.1', 'CSX UW Equity', 'CSX UW Equity.1', 'BBY UN Equity', 'BBY UN Equity.1', 'ANET UN Equity', 'ANET UN Equity.1', 'WDC UW Equity', 'WDC UW Equity.1', 'ALGN UW Equity', 'ALGN UW Equity.1', 'TTWO UW Equity', 'TTWO UW Equity.1', 'MS UN Equity', 'MS UN Equity.1', 'ADSK UW Equity', 'ADSK UW Equity.1', 'BAC UN Equity', 'BAC UN Equity.1', 'IDXX UW Equity', 'IDXX UW Equity.1', 'APO UN Equity', 'APO UN Equity.1', 'LRCX UW Equity', 'LRCX UW Equity.1', 'AMAT UW Equity', 'AMAT UW Equity.1', 'ZBRA UW Equity', 'ZBRA UW Equity.1', 'TPL UN Equity', 'TPL UN Equity.1', 'STX UW Equity', 'STX UW Equity.1', 'PKG UN Equity', 'PKG UN Equity.1', 'CFG UN Equity', 'CFG UN Equity.1', 'PODD UW Equity', 'PODD UW Equity.1', 'GEN UW Equity', 'GEN UW Equity.1', 'PAYC UN Equity', 'PAYC UN Equity.1', 'ODFL UW Equity', 'ODFL UW Equity.1', 'TTD UQ Equity', 'TTD UQ Equity.1', 'NTAP UW Equity', 'NTAP UW Equity.1', 'BA UN Equity', 'BA UN Equity.1', 'KEY UN Equity', 'KEY UN Equity.1', 'INCY UW Equity', 'INCY UW Equity.1', 'RF UN Equity', 'RF UN Equity.1', 'STT UN Equity', 'STT UN Equity.1', 'URI UN Equity', 'URI UN Equity.1', 'NFLX UW Equity'] Last ['ENPH UQ Equity', 'ENPH UQ Equity.1', 'TSCO UW Equity', 'TSCO UW Equity.1', 'KR UN Equity', 'KR UN Equity.1', 'KIM UN Equity', 'KIM UN Equity.1', 'AZO UN Equity', 'AZO UN Equity.1', 'ORLY UW Equity', 'ORLY UW Equity.1', 'DLTR UW Equity', 'DLTR UW Equity.1', 'RL UN Equity', 'RL UN Equity.1', 'DG UN Equity', 'DG UN Equity.1', 'EQT UN Equity', 'EQT UN Equity.1', 'TGT UN Equity', 'TGT UN Equity.1', 'BMY UN Equity', 'BMY UN Equity.1', 'FSLR UW Equity', 'FSLR UW Equity.1', 'SPG UN Equity', 'SPG UN Equity.1', 'SJM UN Equity', 'SJM UN Equity.1', 'OXY UN Equity', 'OXY UN Equity.1', 'LULU UW Equity', 'LULU UW Equity.1', 'FRT UN Equity', 'FRT UN Equity.1', 'DVA UN Equity', 'DVA UN Equity.1', 'CVS UN Equity', 'CVS UN Equity.1', 'GWW UN Equity', 'GWW UN Equity.1', 'TAP UN Equity', 'TAP UN Equity.1', 'VTRS UW Equity', 'VTRS UW Equity.1', 'GILD UW Equity', 'GILD UW Equity.1', 'SLB UN Equity', 'SLB UN Equity.1', 'GIS UN Equity', 'GIS UN Equity.1', 'MOS UN Equity', 'MOS UN Equity.1', 'DVN UN Equity', 'DVN UN Equity.1', 'VZ UN Equity', 'VZ UN Equity.1', 'K UN Equity', 'K UN Equity.1', 'O UN Equity', 'O UN Equity.1', 'MCK UN Equity', 'MCK UN Equity.1', 'PSA UN Equity', 'PSA UN Equity.1', 'UHS UN Equity', 'UHS UN Equity.1', 'F UN Equity']\n",
      "Top ['XYZ UN Equity', 'XYZ UN Equity.1', 'ALGN UW Equity', 'ALGN UW Equity.1', 'ANET UN Equity', 'ANET UN Equity.1', 'TTWO UW Equity', 'TTWO UW Equity.1', 'BA UN Equity', 'BA UN Equity.1', 'NRG UN Equity', 'NRG UN Equity.1', 'FSLR UW Equity', 'FSLR UW Equity.1', 'NVR UN Equity', 'NVR UN Equity.1', 'VRTX UW Equity', 'VRTX UW Equity.1', 'PYPL UW Equity', 'PYPL UW Equity.1', 'NVDA UW Equity', 'NVDA UW Equity.1', 'ISRG UW Equity', 'ISRG UW Equity.1', 'WYNN UW Equity', 'WYNN UW Equity.1', 'APO UN Equity', 'APO UN Equity.1', 'PAYC UN Equity', 'PAYC UN Equity.1', 'PODD UW Equity', 'PODD UW Equity.1', 'LRCX UW Equity', 'LRCX UW Equity.1', 'CZR UW Equity', 'CZR UW Equity.1', 'ON UW Equity', 'ON UW Equity.1', 'CNC UN Equity', 'MU UW Equity', 'MU UW Equity.1', 'PHM UN Equity', 'PHM UN Equity.1', 'DHI UN Equity', 'DHI UN Equity.1', 'ADBE UW Equity', 'ADBE UW Equity.1', 'NOW UN Equity', 'NOW UN Equity.1', 'TPL UN Equity', 'TPL UN Equity.1', 'CAT UN Equity', 'CAT UN Equity.1', 'CBOE UF Equity', 'CBOE UF Equity.1', 'TKO UN Equity', 'TKO UN Equity.1', 'NTAP UW Equity', 'NTAP UW Equity.1', 'EPAM UN Equity', 'EPAM UN Equity.1', 'CSGP UW Equity', 'CSGP UW Equity.1', 'MSCI UN Equity'] Last ['GE UN Equity', 'GE UN Equity.1', 'KIM UN Equity', 'KIM UN Equity.1', 'SMCI UW Equity', 'SMCI UW Equity.1', 'PCG UN Equity', 'PCG UN Equity.1', 'DOC UN Equity', 'DOC UN Equity.1', 'KR UN Equity', 'KR UN Equity.1', 'EQT UN Equity', 'EQT UN Equity.1', 'CMG UN Equity', 'CMG UN Equity.1', 'TAP UN Equity', 'TAP UN Equity.1', 'INCY UW Equity', 'INCY UW Equity.1', 'EIX UN Equity', 'EIX UN Equity.1', 'DXCM UW Equity', 'DXCM UW Equity.1', 'OMC UN Equity', 'OMC UN Equity.1', 'FRT UN Equity', 'FRT UN Equity.1', 'PSA UN Equity', 'PSA UN Equity.1', 'SLB UN Equity', 'SLB UN Equity.1', 'WBA UW Equity', 'WBA UW Equity.1', 'MOS UN Equity', 'MOS UN Equity.1', 'K UN Equity', 'K UN Equity.1', 'KMI UN Equity', 'KMI UN Equity.1', 'ADM UN Equity', 'ADM UN Equity.1', 'T UN Equity', 'T UN Equity.1', 'KHC UW Equity', 'KHC UW Equity.1', 'DVN UN Equity', 'DVN UN Equity.1', 'VTR UN Equity', 'VTR UN Equity.1', 'TRGP UN Equity', 'TRGP UN Equity.1', 'ORLY UW Equity', 'ORLY UW Equity.1', 'IPG UN Equity', 'IPG UN Equity.1', 'AIG UN Equity', 'AIG UN Equity.1', 'ULTA UW Equity', 'ULTA UW Equity.1', 'JCI UN Equity', 'JCI UN Equity.1', 'FFIV UW Equity', 'FFIV UW Equity.1']\n",
      "Top ['GRMN UN Equity', 'GRMN UN Equity.1', 'ENPH UQ Equity', 'ENPH UQ Equity.1', 'FI UN Equity', 'FI UN Equity.1', 'TKO UN Equity', 'TKO UN Equity.1', 'XYZ UN Equity', 'XYZ UN Equity.1', 'TPL UN Equity', 'TPL UN Equity.1', 'AXON UW Equity', 'AXON UW Equity.1', 'EXPD UN Equity', 'EXPD UN Equity.1', 'ALGN UW Equity', 'ALGN UW Equity.1', 'NFLX UW Equity', 'NFLX UW Equity.1', 'CZR UW Equity', 'CZR UW Equity.1', 'LULU UW Equity', 'LULU UW Equity.1', 'NTAP UW Equity', 'NTAP UW Equity.1', 'PAYC UN Equity', 'PAYC UN Equity.1', 'NRG UN Equity', 'NRG UN Equity.1', 'GWW UN Equity', 'GWW UN Equity.1', 'FTNT UW Equity', 'FTNT UW Equity.1', 'AMZN UW Equity', 'AMZN UW Equity.1', 'CPRT UW Equity', 'CPRT UW Equity.1', 'RL UN Equity', 'RL UN Equity.1', 'MOH UN Equity', 'MOH UN Equity.1', 'CF UN Equity', 'CF UN Equity.1', 'ANET UN Equity', 'ANET UN Equity.1', 'GDDY UN Equity', 'GDDY UN Equity.1', 'ORLY UW Equity', 'ORLY UW Equity.1', 'ADBE UW Equity', 'ADBE UW Equity.1', 'TTD UQ Equity', 'TTD UQ Equity.1', 'MU UW Equity', 'MU UW Equity.1', 'BA UN Equity', 'BA UN Equity.1', 'VLO UN Equity', 'VLO UN Equity.1', 'DECK UN Equity'] Last ['INCY UW Equity', 'INCY UW Equity.1', 'GE UN Equity', 'GE UN Equity.1', 'PCG UN Equity', 'PCG UN Equity.1', 'CAH UN Equity', 'CAH UN Equity.1', 'IVZ UN Equity', 'IVZ UN Equity.1', 'KHC UW Equity', 'KHC UW Equity.1', 'GEN UW Equity', 'GEN UW Equity.1', 'MHK UN Equity', 'MHK UN Equity.1', 'MCK UN Equity', 'MCK UN Equity.1', 'PM UN Equity', 'PM UN Equity.1', 'BEN UN Equity', 'BEN UN Equity.1', 'PPL UN Equity', 'PPL UN Equity.1', 'REGN UW Equity', 'REGN UW Equity.1', 'PFG UW Equity', 'PFG UW Equity.1', 'WDC UW Equity', 'WDC UW Equity.1', 'TAP UN Equity', 'TAP UN Equity.1', 'MO UN Equity', 'MO UN Equity.1', 'CVS UN Equity', 'CVS UN Equity.1', 'EQT UN Equity', 'EQT UN Equity.1', 'ALB UN Equity', 'ALB UN Equity.1', 'ULTA UW Equity', 'ULTA UW Equity.1', 'OMC UN Equity', 'OMC UN Equity.1', 'EG UN Equity', 'EG UN Equity.1', 'COR UN Equity', 'COR UN Equity.1', 'HSIC UW Equity', 'HSIC UW Equity.1', 'CMI UN Equity', 'CMI UN Equity.1', 'NXPI UW Equity', 'NXPI UW Equity.1', 'VTR UN Equity', 'VTR UN Equity.1', 'WBA UW Equity', 'WBA UW Equity.1', 'DOC UN Equity', 'DOC UN Equity.1', 'CHTR UW Equity']\n",
      "Top ['GRMN UN Equity', 'GRMN UN Equity.1', 'FI UN Equity', 'FI UN Equity.1', 'ENPH UQ Equity', 'ENPH UQ Equity.1', 'UAL UW Equity', 'UAL UW Equity.1', 'TTD UQ Equity', 'TTD UQ Equity.1', 'EXPD UN Equity', 'EXPD UN Equity.1', 'TKO UN Equity', 'TKO UN Equity.1', 'DXCM UW Equity', 'DXCM UW Equity.1', 'AXON UW Equity', 'AXON UW Equity.1', 'PAYC UN Equity', 'PAYC UN Equity.1', 'LULU UW Equity', 'LULU UW Equity.1', 'AMD UW Equity', 'AMD UW Equity.1', 'FTNT UW Equity', 'FTNT UW Equity.1', 'XYZ UN Equity', 'XYZ UN Equity.1', 'CMG UN Equity', 'CMG UN Equity.1', 'KEYS UN Equity', 'KEYS UN Equity.1', 'DECK UN Equity', 'DECK UN Equity.1', 'WDAY UW Equity', 'WDAY UW Equity.1', 'NOW UN Equity', 'NOW UN Equity.1', 'NFLX UW Equity', 'NFLX UW Equity.1', 'NRG UN Equity', 'NRG UN Equity.1', 'ZBRA UW Equity', 'ZBRA UW Equity.1', 'HCA UN Equity', 'HCA UN Equity.1', 'VRSN UW Equity', 'VRSN UW Equity.1', 'AES UN Equity', 'AES UN Equity.1', 'FICO UN Equity', 'FICO UN Equity.1', 'MOH UN Equity', 'MOH UN Equity.1', 'DAY UN Equity', 'DAY UN Equity.1'] Last ['PCG UN Equity', 'PCG UN Equity.1', 'MHK UN Equity', 'MHK UN Equity.1', 'IVZ UN Equity', 'IVZ UN Equity.1', 'WDC UW Equity', 'WDC UW Equity.1', 'HWM UN Equity', 'HWM UN Equity.1', 'EQT UN Equity', 'EQT UN Equity.1', 'SLB UN Equity', 'SLB UN Equity.1', 'HAL UN Equity', 'HAL UN Equity.1', 'LKQ UW Equity', 'LKQ UW Equity.1', 'FCX UN Equity', 'FCX UN Equity.1', 'KHC UW Equity', 'KHC UW Equity.1', 'GE UN Equity', 'GE UN Equity.1', 'DVN UN Equity', 'DVN UN Equity.1', 'CAG UN Equity', 'CAG UN Equity.1', 'STT UN Equity', 'STT UN Equity.1', 'AIG UN Equity', 'AIG UN Equity.1', 'NVDA UW Equity', 'NVDA UW Equity.1', 'LEN UN Equity', 'LEN UN Equity.1', 'VTRS UW Equity', 'VTRS UW Equity.1', 'FDX UN Equity', 'FDX UN Equity.1', 'PFG UW Equity', 'PFG UW Equity.1', 'SMCI UW Equity', 'SMCI UW Equity.1', 'CBOE UF Equity', 'CBOE UF Equity.1', 'BG UN Equity', 'BG UN Equity.1', 'ALB UN Equity', 'ALB UN Equity.1', 'WYNN UW Equity', 'WYNN UW Equity.1', 'IR UN Equity', 'IR UN Equity.1', 'DD UN Equity', 'DD UN Equity.1']\n",
      "Top ['ENPH UQ Equity', 'ENPH UQ Equity.1', 'UAL UW Equity', 'UAL UW Equity.1', 'TTD UQ Equity', 'TTD UQ Equity.1', 'MKTX UW Equity', 'MKTX UW Equity.1', 'BALL UN Equity', 'BALL UN Equity.1', 'SBUX UW Equity', 'SBUX UW Equity.1', 'PAYC UN Equity', 'PAYC UN Equity.1', 'CMG UN Equity', 'CMG UN Equity.1', 'PODD UW Equity', 'PODD UW Equity.1', 'ERIE UW Equity', 'ERIE UW Equity.1', 'FICO UN Equity', 'FICO UN Equity.1', 'AMD UW Equity', 'AMD UW Equity.1', 'SBAC UW Equity', 'SBAC UW Equity.1', 'HSY UN Equity', 'HSY UN Equity.1', 'DAY UN Equity', 'DAY UN Equity.1', 'KEYS UN Equity', 'KEYS UN Equity.1', 'TSN UN Equity', 'TSN UN Equity.1', 'DG UN Equity', 'DG UN Equity.1', 'MSI UN Equity', 'MSI UN Equity.1', 'AMT UN Equity', 'AMT UN Equity.1', 'SNPS UW Equity', 'SNPS UW Equity.1', 'AZO UN Equity', 'AZO UN Equity.1', 'CDNS UW Equity', 'CDNS UW Equity.1', 'EPAM UN Equity', 'EPAM UN Equity.1', 'CINF UW Equity'] Last ['PCG UN Equity', 'PCG UN Equity.1', 'EQT UN Equity', 'EQT UN Equity.1', 'KHC UW Equity', 'KHC UW Equity.1', 'HAL UN Equity', 'HAL UN Equity.1', 'TPR UN Equity', 'TPR UN Equity.1', 'ALGN UW Equity', 'ALGN UW Equity.1', 'SLB UN Equity', 'SLB UN Equity.1', 'VTRS UW Equity', 'VTRS UW Equity.1', 'DVN UN Equity', 'DVN UN Equity.1', 'OXY UN Equity', 'OXY UN Equity.1', 'FCX UN Equity', 'FCX UN Equity.1', 'WAB UN Equity', 'WAB UN Equity.1', 'NTAP UW Equity', 'NTAP UW Equity.1', 'MOS UN Equity', 'MOS UN Equity.1', 'STT UN Equity', 'STT UN Equity.1', 'EOG UN Equity', 'EOG UN Equity.1', 'STLD UW Equity', 'STLD UW Equity.1', 'MHK UN Equity', 'MHK UN Equity.1', 'TSLA UW Equity', 'TSLA UW Equity.1', 'BIIB UW Equity', 'BIIB UW Equity.1', 'MPC UN Equity', 'MPC UN Equity.1', 'GE UN Equity', 'GE UN Equity.1', 'EMN UN Equity', 'EMN UN Equity.1', 'FDX UN Equity', 'FDX UN Equity.1', 'ALB UN Equity']\n",
      "Top ['ENPH UQ Equity', 'ENPH UQ Equity.1', 'PODD UW Equity', 'PODD UW Equity.1', 'TSLA UW Equity', 'TSLA UW Equity.1', 'GNRC UN Equity', 'GNRC UN Equity.1', 'DXCM UW Equity', 'DXCM UW Equity.1', 'AMD UW Equity', 'AMD UW Equity.1', 'CSGP UW Equity', 'CSGP UW Equity.1', 'MSCI UN Equity', 'MSCI UN Equity.1', 'AAPL UW Equity', 'AAPL UW Equity.1', 'SBAC UW Equity', 'SBAC UW Equity.1', 'SMCI UW Equity', 'SMCI UW Equity.1', 'WST UN Equity', 'WST UN Equity.1', 'NEM UN Equity', 'NEM UN Equity.1', 'NVDA UW Equity', 'NVDA UW Equity.1', 'MKTX UW Equity', 'MKTX UW Equity.1', 'LDOS UN Equity', 'LDOS UN Equity.1', 'EQIX UW Equity', 'EQIX UW Equity.1', 'RMD UN Equity', 'RMD UN Equity.1', 'QCOM UW Equity', 'QCOM UW Equity.1', 'LRCX UW Equity', 'LRCX UW Equity.1', 'TGT UN Equity', 'TGT UN Equity.1', 'MSFT UW Equity', 'MSFT UW Equity.1', 'BRO UN Equity', 'BRO UN Equity.1'] Last ['NCLH UN Equity', 'NCLH UN Equity.1', 'OXY UN Equity', 'OXY UN Equity.1', 'HAL UN Equity', 'HAL UN Equity.1', 'FANG UW Equity', 'FANG UW Equity.1', 'DVN UN Equity', 'DVN UN Equity.1', 'RCL UN Equity', 'RCL UN Equity.1', 'TRGP UN Equity', 'TRGP UN Equity.1', 'CCL UN Equity', 'CCL UN Equity.1', 'MOS UN Equity', 'MOS UN Equity.1', 'CZR UW Equity', 'CZR UW Equity.1', 'EOG UN Equity', 'EOG UN Equity.1', 'SLB UN Equity', 'SLB UN Equity.1', 'MPC UN Equity', 'MPC UN Equity.1', 'EQT UN Equity', 'EQT UN Equity.1', 'TKO UN Equity', 'TKO UN Equity.1', 'BA UN Equity', 'BA UN Equity.1', 'PARA UW Equity', 'PARA UW Equity.1', 'COP UN Equity', 'COP UN Equity.1', 'VTRS UW Equity', 'VTRS UW Equity.1', 'UAL UW Equity', 'UAL UW Equity.1', 'VTR UN Equity', 'VTR UN Equity.1', 'OKE UN Equity', 'OKE UN Equity.1', 'DD UN Equity', 'DD UN Equity.1']\n",
      "Top ['TSLA UW Equity', 'TSLA UW Equity.1', 'MRNA UW Equity', 'MRNA UW Equity.1', 'NVDA UW Equity', 'NVDA UW Equity.1', 'CARR UN Equity', 'CARR UN Equity.1', 'XYZ UN Equity', 'XYZ UN Equity.1', 'AMD UW Equity', 'AMD UW Equity.1', 'DDOG UW Equity', 'DDOG UW Equity.1', 'ENPH UQ Equity', 'ENPH UQ Equity.1', 'GNRC UN Equity', 'GNRC UN Equity.1', 'DXCM UW Equity', 'DXCM UW Equity.1', 'AAPL UW Equity', 'AAPL UW Equity.1', 'REGN UW Equity', 'REGN UW Equity.1', 'TTD UQ Equity', 'TTD UQ Equity.1', 'SWKS UW Equity', 'SWKS UW Equity.1', 'WST UN Equity', 'WST UN Equity.1', 'NOW UN Equity', 'NOW UN Equity.1', 'MPWR UW Equity', 'MPWR UW Equity.1', 'LULU UW Equity', 'LULU UW Equity.1', 'BBY UN Equity', 'BBY UN Equity.1', 'ALGN UW Equity', 'ALGN UW Equity.1', 'AMZN UW Equity'] Last ['OXY UN Equity', 'OXY UN Equity.1', 'NCLH UN Equity', 'NCLH UN Equity.1', 'FANG UW Equity', 'FANG UW Equity.1', 'CCL UN Equity', 'CCL UN Equity.1', 'OKE UN Equity', 'OKE UN Equity.1', 'UAL UW Equity', 'UAL UW Equity.1', 'BA UN Equity', 'BA UN Equity.1', 'TRGP UN Equity', 'TRGP UN Equity.1', 'DVN UN Equity', 'DVN UN Equity.1', 'SPG UN Equity', 'SPG UN Equity.1', 'EOG UN Equity', 'EOG UN Equity.1', 'DAL UN Equity', 'DAL UN Equity.1', 'WFC UN Equity', 'WFC UN Equity.1', 'AIG UN Equity', 'AIG UN Equity.1', 'XOM UN Equity', 'XOM UN Equity.1', 'SLB UN Equity', 'SLB UN Equity.1', 'TKO UN Equity', 'TKO UN Equity.1', 'PSX UN Equity', 'PSX UN Equity.1', 'RCL UN Equity', 'RCL UN Equity.1', 'FRT UN Equity', 'FRT UN Equity.1', 'VTR UN Equity']\n",
      "Top ['MRNA UW Equity', 'MRNA UW Equity.1', 'TSLA UW Equity', 'TSLA UW Equity.1', 'CZR UW Equity', 'CZR UW Equity.1', 'CRWD UW Equity', 'CRWD UW Equity.1', 'ENPH UQ Equity', 'ENPH UQ Equity.1', 'FCX UN Equity', 'FCX UN Equity.1', 'XYZ UN Equity', 'XYZ UN Equity.1', 'WSM UN Equity', 'WSM UN Equity.1', 'TPL UN Equity', 'TPL UN Equity.1', 'CARR UN Equity', 'CARR UN Equity.1', 'URI UN Equity', 'URI UN Equity.1', 'TTD UQ Equity', 'TTD UQ Equity.1', 'GNRC UN Equity', 'GNRC UN Equity.1', 'HAL UN Equity', 'HAL UN Equity.1', 'BLDR UN Equity', 'BLDR UN Equity.1', 'ON UW Equity', 'ON UW Equity.1', 'ALGN UW Equity', 'ALGN UW Equity.1', 'FANG UW Equity', 'FANG UW Equity.1', 'MOS UN Equity'] Last ['BIIB UW Equity', 'BIIB UW Equity.1', 'VTRS UW Equity', 'VTRS UW Equity.1', 'ED UN Equity', 'ED UN Equity.1', 'FE UN Equity', 'FE UN Equity.1', 'BXP UN Equity', 'BXP UN Equity.1', 'T UN Equity', 'T UN Equity.1', 'VRTX UW Equity', 'VRTX UW Equity.1', 'O UN Equity', 'O UN Equity.1', 'GILD UW Equity', 'GILD UW Equity.1', 'WEC UN Equity', 'WEC UN Equity.1', 'CNC UN Equity', 'JKHY UW Equity', 'JKHY UW Equity.1', 'CTRA UN Equity', 'CTRA UN Equity.1', 'CMS UN Equity', 'CMS UN Equity.1', 'SBAC UW Equity', 'SBAC UW Equity.1', 'ATO UN Equity', 'ATO UN Equity.1', 'EXE UW Equity', 'EXE UW Equity.1', 'AVB UN Equity', 'AVB UN Equity.1', 'D UN Equity', 'D UN Equity.1']\n",
      "Top ['MRNA UW Equity', 'MRNA UW Equity.1', 'DVN UN Equity', 'DVN UN Equity.1', 'TRGP UN Equity', 'TRGP UN Equity.1', 'FANG UW Equity', 'FANG UW Equity.1', 'OXY UN Equity', 'OXY UN Equity.1', 'FTNT UW Equity', 'FTNT UW Equity.1', 'OKE UN Equity', 'OKE UN Equity.1', 'TPL UN Equity', 'TPL UN Equity.1', 'ALB UN Equity', 'ALB UN Equity.1', 'APA UW Equity', 'APA UW Equity.1', 'BX UN Equity', 'BX UN Equity.1', 'GNRC UN Equity', 'GNRC UN Equity.1', 'IT UN Equity', 'IT UN Equity.1', 'F UN Equity', 'F UN Equity.1', 'EOG UN Equity', 'EOG UN Equity.1', 'FCX UN Equity', 'FCX UN Equity.1', 'MPC UN Equity', 'MPC UN Equity.1', 'ENPH UQ Equity'] Last ['VRTX UW Equity', 'VRTX UW Equity.1', 'INCY UW Equity', 'INCY UW Equity.1', 'CLX UN Equity', 'CLX UN Equity.1', 'LVS UN Equity', 'LVS UN Equity.1', 'MKC UN Equity', 'MKC UN Equity.1', 'FIS UN Equity', 'FIS UN Equity.1', 'HRL UN Equity', 'HRL UN Equity.1', 'AMGN UW Equity', 'AMGN UW Equity.1', 'MKTX UW Equity', 'MKTX UW Equity.1', 'LW UN Equity', 'LW UN Equity.1', 'CHD UN Equity', 'CHD UN Equity.1', 'COIN UW Equity', 'COIN UW Equity.1', 'GPN UN Equity', 'GPN UN Equity.1', 'GDDY UN Equity', 'GDDY UN Equity.1', 'BF/B UN Equity', 'BF/B UN Equity.1', 'FDX UN Equity', 'FDX UN Equity.1', 'VZ UN Equity', 'VZ UN Equity.1', 'PNW UN Equity']\n",
      "Top ['DVN UN Equity', 'DVN UN Equity.1', 'OXY UN Equity', 'OXY UN Equity.1', 'EQT UN Equity', 'EQT UN Equity.1', 'TRGP UN Equity', 'TRGP UN Equity.1', 'APA UW Equity', 'APA UW Equity.1', 'CF UN Equity', 'CF UN Equity.1', 'EXE UW Equity', 'EXE UW Equity.1', 'MOS UN Equity', 'MOS UN Equity.1', 'COP UN Equity', 'COP UN Equity.1', 'CTRA UN Equity', 'CTRA UN Equity.1', 'FANG UW Equity', 'FANG UW Equity.1', 'VLO UN Equity', 'VLO UN Equity.1', 'EOG UN Equity', 'EOG UN Equity.1', 'MPC UN Equity', 'MPC UN Equity.1', 'NUE UN Equity', 'NUE UN Equity.1', 'HAL UN Equity'] Last ['PYPL UW Equity', 'PYPL UW Equity.1', 'NFLX UW Equity', 'NFLX UW Equity.1', 'COIN UW Equity', 'COIN UW Equity.1', 'XYZ UN Equity', 'XYZ UN Equity.1', 'UBER UN Equity', 'UBER UN Equity.1', 'ALGN UW Equity', 'ALGN UW Equity.1', 'MKTX UW Equity', 'MKTX UW Equity.1', 'WYNN UW Equity', 'WYNN UW Equity.1', 'MTCH UW Equity', 'MTCH UW Equity.1', 'CCL UN Equity', 'CCL UN Equity.1', 'LVS UN Equity', 'LVS UN Equity.1', 'SWKS UW Equity', 'SWKS UW Equity.1', 'GPN UN Equity', 'GPN UN Equity.1', 'BA UN Equity', 'BA UN Equity.1', 'DIS UN Equity', 'DIS UN Equity.1', 'NCLH UN Equity']\n",
      "Top ['SMCI UW Equity', 'SMCI UW Equity.1', 'CEG UW Equity', 'CEG UW Equity.1', 'TPL UN Equity', 'TPL UN Equity.1', 'OXY UN Equity', 'OXY UN Equity.1', 'EQT UN Equity', 'EQT UN Equity.1', 'DVN UN Equity', 'DVN UN Equity.1', 'XOM UN Equity', 'XOM UN Equity.1', 'MPC UN Equity', 'MPC UN Equity.1', 'COP UN Equity', 'COP UN Equity.1', 'EXE UW Equity', 'EXE UW Equity.1', 'VLO UN Equity', 'VLO UN Equity.1', 'ENPH UQ Equity', 'ENPH UQ Equity.1', 'MCK UN Equity', 'MCK UN Equity.1', 'CF UN Equity', 'CF UN Equity.1', 'APA UW Equity', 'APA UW Equity.1', 'CVX UN Equity'] Last ['COIN UW Equity', 'COIN UW Equity.1', 'GNRC UN Equity', 'GNRC UN Equity.1', 'XYZ UN Equity', 'XYZ UN Equity.1', 'MTCH UW Equity', 'MTCH UW Equity.1', 'ALGN UW Equity', 'ALGN UW Equity.1', 'META UW Equity', 'META UW Equity.1', 'PYPL UW Equity', 'PYPL UW Equity.1', 'CCL UN Equity', 'CCL UN Equity.1', 'WBD UW Equity', 'WBD UW Equity.1', 'SWK UN Equity', 'SWK UN Equity.1', 'CZR UW Equity', 'CZR UW Equity.1', 'NFLX UW Equity', 'NFLX UW Equity.1', 'KMX UN Equity', 'KMX UN Equity.1', 'ZBRA UW Equity', 'ZBRA UW Equity.1', 'DDOG UW Equity', 'DDOG UW Equity.1', 'CRWD UW Equity']\n",
      "Top ['SMCI UW Equity', 'SMCI UW Equity.1', 'FSLR UW Equity', 'FSLR UW Equity.1', 'FICO UN Equity', 'FICO UN Equity.1', 'NFLX UW Equity', 'NFLX UW Equity.1', 'NVDA UW Equity', 'NVDA UW Equity.1', 'AXON UW Equity', 'AXON UW Equity.1', 'DECK UN Equity', 'DECK UN Equity.1', 'LW UN Equity', 'LW UN Equity.1', 'BLDR UN Equity', 'BLDR UN Equity.1', 'GE UN Equity', 'GE UN Equity.1', 'TKO UN Equity', 'TKO UN Equity.1', 'SNPS UW Equity', 'SNPS UW Equity.1', 'LVS UN Equity', 'LVS UN Equity.1', 'CPRT UW Equity', 'CPRT UW Equity.1'] Last ['BXP UN Equity', 'BXP UN Equity.1', 'GNRC UN Equity', 'GNRC UN Equity.1', 'MOS UN Equity', 'MOS UN Equity.1', 'MTCH UW Equity', 'MTCH UW Equity.1', 'KEY UN Equity', 'KEY UN Equity.1', 'FIS UN Equity', 'FIS UN Equity.1', 'PARA UW Equity', 'PARA UW Equity.1', 'TSN UN Equity', 'TSN UN Equity.1', 'BAX UN Equity', 'BAX UN Equity.1', 'TGT UN Equity', 'TGT UN Equity.1', 'COIN UW Equity', 'COIN UW Equity.1', 'NEM UN Equity', 'NEM UN Equity.1', 'D UN Equity', 'D UN Equity.1', 'CF UN Equity', 'CF UN Equity.1']\n",
      "Top ['SMCI UW Equity', 'SMCI UW Equity.1', 'COIN UW Equity', 'COIN UW Equity.1', 'NVDA UW Equity', 'NVDA UW Equity.1', 'META UW Equity', 'META UW Equity.1', 'BLDR UN Equity', 'BLDR UN Equity.1', 'PHM UN Equity', 'PHM UN Equity.1', 'AVGO UW Equity', 'AVGO UW Equity.1', 'UBER UN Equity', 'UBER UN Equity.1', 'RCL UN Equity', 'RCL UN Equity.1', 'CCL UN Equity', 'CCL UN Equity.1', 'JBL UN Equity', 'JBL UN Equity.1', 'FICO UN Equity'] Last ['ENPH UQ Equity', 'ENPH UQ Equity.1', 'MRNA UW Equity', 'MRNA UW Equity.1', 'DG UN Equity', 'DG UN Equity.1', 'ALB UN Equity', 'ALB UN Equity.1', 'PFE UN Equity', 'PFE UN Equity.1', 'TPL UN Equity', 'TPL UN Equity.1', 'EL UN Equity', 'EL UN Equity.1', 'PAYC UN Equity', 'PAYC UN Equity.1', 'HRL UN Equity', 'HRL UN Equity.1', 'WBA UW Equity', 'WBA UW Equity.1', 'BMY UN Equity', 'BMY UN Equity.1', 'PODD UW Equity']\n",
      "Top ['SMCI UW Equity', 'SMCI UW Equity.1', 'VST UN Equity', 'VST UN Equity.1', 'COIN UW Equity', 'COIN UW Equity.1', 'NVDA UW Equity', 'NVDA UW Equity.1', 'DELL UN Equity', 'DELL UN Equity.1', 'CRWD UW Equity', 'CRWD UW Equity.1', 'WSM UN Equity', 'WSM UN Equity.1', 'NRG UN Equity', 'NRG UN Equity.1', 'CEG UW Equity', 'CEG UW Equity.1', 'ANET UN Equity', 'ANET UN Equity.1', 'DECK UN Equity'] Last ['WBA UW Equity', 'WBA UW Equity.1', 'ALB UN Equity', 'ALB UN Equity.1', 'PAYC UN Equity', 'PAYC UN Equity.1', 'ENPH UQ Equity', 'ENPH UQ Equity.1', 'EL UN Equity', 'EL UN Equity.1', 'WBD UW Equity', 'WBD UW Equity.1', 'SOLV UN Equity', 'SOLV UN Equity.1', 'BMY UN Equity', 'BMY UN Equity.1', 'PARA UW Equity', 'PARA UW Equity.1', 'BF/B UN Equity', 'BF/B UN Equity.1', 'HUM UN Equity']\n",
      "Top ['VST UN Equity', 'VST UN Equity.1', 'NVDA UW Equity', 'NVDA UW Equity.1', 'GEV UN Equity', 'GEV UN Equity.1', 'TPL UN Equity', 'TPL UN Equity.1', 'UAL UW Equity', 'UAL UW Equity.1', 'TRGP UN Equity', 'TRGP UN Equity.1', 'AXON UW Equity', 'AXON UW Equity.1', 'HWM UN Equity', 'HWM UN Equity.1', 'NRG UN Equity'] Last ['WBA UW Equity', 'WBA UW Equity.1', 'INTC UW Equity', 'INTC UW Equity.1', 'MRNA UW Equity', 'MRNA UW Equity.1', 'EL UN Equity', 'EL UN Equity.1', 'DLTR UW Equity', 'DLTR UW Equity.1', 'ENPH UQ Equity', 'ENPH UQ Equity.1', 'DG UN Equity', 'DG UN Equity.1', 'HUM UN Equity', 'HUM UN Equity.1', 'LW UN Equity']\n",
      "Top ['GEV UN Equity', 'GEV UN Equity.1', 'TPR UN Equity', 'TPR UN Equity.1', 'HWM UN Equity', 'HWM UN Equity.1', 'AXON UW Equity', 'AXON UW Equity.1', 'PLTR UW Equity', 'PLTR UW Equity.1', 'VST UN Equity', 'VST UN Equity.1', 'DASH UW Equity', 'DASH UW Equity.1', 'RCL UN Equity', 'RCL UN Equity.1'] Last ['MRNA UW Equity', 'MRNA UW Equity.1', 'ENPH UQ Equity', 'ENPH UQ Equity.1', 'CNC UN Equity', 'DOW UN Equity', 'DOW UN Equity.1', 'ELV UN Equity', 'ELV UN Equity.1', 'MOH UN Equity', 'MOH UN Equity.1', 'REGN UW Equity', 'REGN UW Equity.1', 'UNH UN Equity', 'UNH UN Equity.1', 'BIIB UW Equity']\n"
     ]
    },
    {
     "name": "stderr",
     "output_type": "stream",
     "text": [
      "/var/folders/pm/ps47mfm943x_nqjshcjsk5ch0000gn/T/ipykernel_21951/3313448931.py:2: FutureWarning: The default fill_method='pad' in DataFrame.pct_change is deprecated and will be removed in a future version. Either fill in any non-leading NA values prior to calling pct_change or specify 'fill_method=None' to not fill NA values.\n",
      "  rets = prices.pct_change()\n",
      "/var/folders/pm/ps47mfm943x_nqjshcjsk5ch0000gn/T/ipykernel_21951/3313448931.py:2: FutureWarning: The default fill_method='pad' in DataFrame.pct_change is deprecated and will be removed in a future version. Either fill in any non-leading NA values prior to calling pct_change or specify 'fill_method=None' to not fill NA values.\n",
      "  rets = prices.pct_change()\n",
      "/var/folders/pm/ps47mfm943x_nqjshcjsk5ch0000gn/T/ipykernel_21951/3313448931.py:2: FutureWarning: The default fill_method='pad' in DataFrame.pct_change is deprecated and will be removed in a future version. Either fill in any non-leading NA values prior to calling pct_change or specify 'fill_method=None' to not fill NA values.\n",
      "  rets = prices.pct_change()\n",
      "/var/folders/pm/ps47mfm943x_nqjshcjsk5ch0000gn/T/ipykernel_21951/3313448931.py:2: FutureWarning: The default fill_method='pad' in DataFrame.pct_change is deprecated and will be removed in a future version. Either fill in any non-leading NA values prior to calling pct_change or specify 'fill_method=None' to not fill NA values.\n",
      "  rets = prices.pct_change()\n",
      "/var/folders/pm/ps47mfm943x_nqjshcjsk5ch0000gn/T/ipykernel_21951/3313448931.py:2: FutureWarning: The default fill_method='pad' in DataFrame.pct_change is deprecated and will be removed in a future version. Either fill in any non-leading NA values prior to calling pct_change or specify 'fill_method=None' to not fill NA values.\n",
      "  rets = prices.pct_change()\n"
     ]
    },
    {
     "data": {
      "application/vnd.microsoft.datawrangler.viewer.v0+json": {
       "columns": [
        {
         "name": "('Dates', None)",
         "rawType": "object",
         "type": "unknown"
        },
        {
         "name": "0",
         "rawType": "float64",
         "type": "float"
        }
       ],
       "ref": "32110e72-5e8a-44b3-958d-7ef65a561ea3",
       "rows": [
        [
         "(Timestamp('2010-08-17 00:00:00'), 'Periodo 1')",
         "0.9963521339004657"
        ],
        [
         "(Timestamp('2010-08-18 00:00:00'), 'Periodo 1')",
         "1.0001570235803408"
        ],
        [
         "(Timestamp('2010-08-19 00:00:00'), 'Periodo 1')",
         "1.0005860434745077"
        ],
        [
         "(Timestamp('2010-08-20 00:00:00'), 'Periodo 1')",
         "1.010448931255704"
        ],
        [
         "(Timestamp('2010-08-23 00:00:00'), 'Periodo 1')",
         "1.0018005345496956"
        ],
        [
         "(Timestamp('2010-08-24 00:00:00'), 'Periodo 1')",
         "1.0039098396815826"
        ],
        [
         "(Timestamp('2010-08-25 00:00:00'), 'Periodo 1')",
         "1.006710213342853"
        ],
        [
         "(Timestamp('2010-08-26 00:00:00'), 'Periodo 1')",
         "1.0111464057652875"
        ],
        [
         "(Timestamp('2010-08-27 00:00:00'), 'Periodo 1')",
         "1.0142762418907825"
        ],
        [
         "(Timestamp('2010-08-30 00:00:00'), 'Periodo 1')",
         "1.0107364247260306"
        ],
        [
         "(Timestamp('2010-08-31 00:00:00'), 'Periodo 1')",
         "1.019199242298581"
        ],
        [
         "(Timestamp('2010-09-01 00:00:00'), 'Periodo 1')",
         "1.020049567164415"
        ],
        [
         "(Timestamp('2010-09-02 00:00:00'), 'Periodo 1')",
         "1.020356065137368"
        ],
        [
         "(Timestamp('2010-09-03 00:00:00'), 'Periodo 1')",
         "1.0219531374759951"
        ],
        [
         "(Timestamp('2010-09-06 00:00:00'), 'Periodo 1')",
         "1.0219531374759951"
        ],
        [
         "(Timestamp('2010-09-07 00:00:00'), 'Periodo 1')",
         "1.0273933044735584"
        ],
        [
         "(Timestamp('2010-09-08 00:00:00'), 'Periodo 1')",
         "1.0270281302100697"
        ],
        [
         "(Timestamp('2010-09-09 00:00:00'), 'Periodo 1')",
         "1.0191221028307131"
        ],
        [
         "(Timestamp('2010-09-10 00:00:00'), 'Periodo 1')",
         "1.0178076084050145"
        ],
        [
         "(Timestamp('2010-09-13 00:00:00'), 'Periodo 1')",
         "1.020280300520029"
        ],
        [
         "(Timestamp('2010-09-14 00:00:00'), 'Periodo 1')",
         "1.0189775099735985"
        ],
        [
         "(Timestamp('2010-09-15 00:00:00'), 'Periodo 1')",
         "1.018294104506466"
        ],
        [
         "(Timestamp('2010-09-16 00:00:00'), 'Periodo 1')",
         "1.0194990138950044"
        ],
        [
         "(Timestamp('2010-09-17 00:00:00'), 'Periodo 1')",
         "1.020932371654694"
        ],
        [
         "(Timestamp('2010-09-20 00:00:00'), 'Periodo 1')",
         "1.0254541833124988"
        ],
        [
         "(Timestamp('2010-09-21 00:00:00'), 'Periodo 1')",
         "1.0233050651838909"
        ],
        [
         "(Timestamp('2010-09-22 00:00:00'), 'Periodo 1')",
         "1.0243546829526649"
        ],
        [
         "(Timestamp('2010-09-23 00:00:00'), 'Periodo 1')",
         "1.0242596037177851"
        ],
        [
         "(Timestamp('2010-09-24 00:00:00'), 'Periodo 1')",
         "1.021164801892343"
        ],
        [
         "(Timestamp('2010-09-27 00:00:00'), 'Periodo 1')",
         "1.0168065042636445"
        ],
        [
         "(Timestamp('2010-09-28 00:00:00'), 'Periodo 1')",
         "1.018513768763006"
        ],
        [
         "(Timestamp('2010-09-29 00:00:00'), 'Periodo 1')",
         "1.0173273087531554"
        ],
        [
         "(Timestamp('2010-09-30 00:00:00'), 'Periodo 1')",
         "1.0178975100149208"
        ],
        [
         "(Timestamp('2010-10-01 00:00:00'), 'Periodo 1')",
         "1.0149316144054017"
        ],
        [
         "(Timestamp('2010-10-04 00:00:00'), 'Periodo 1')",
         "1.023262546636016"
        ],
        [
         "(Timestamp('2010-10-05 00:00:00'), 'Periodo 1')",
         "1.022514619044972"
        ],
        [
         "(Timestamp('2010-10-06 00:00:00'), 'Periodo 1')",
         "1.017462571459916"
        ],
        [
         "(Timestamp('2010-10-07 00:00:00'), 'Periodo 1')",
         "1.0159488206784877"
        ],
        [
         "(Timestamp('2010-10-08 00:00:00'), 'Periodo 1')",
         "1.011843514794431"
        ],
        [
         "(Timestamp('2010-10-11 00:00:00'), 'Periodo 1')",
         "1.0125592455340042"
        ],
        [
         "(Timestamp('2010-10-12 00:00:00'), 'Periodo 1')",
         "1.0185744518883442"
        ],
        [
         "(Timestamp('2010-10-13 00:00:00'), 'Periodo 1')",
         "1.0126585089460176"
        ],
        [
         "(Timestamp('2010-10-14 00:00:00'), 'Periodo 1')",
         "1.0154742304831064"
        ],
        [
         "(Timestamp('2010-10-15 00:00:00'), 'Periodo 1')",
         "1.0099454962772938"
        ],
        [
         "(Timestamp('2010-10-18 00:00:00'), 'Periodo 1')",
         "1.0053100916979716"
        ],
        [
         "(Timestamp('2010-10-19 00:00:00'), 'Periodo 1')",
         "1.004137400756577"
        ],
        [
         "(Timestamp('2010-10-20 00:00:00'), 'Periodo 1')",
         "1.0007967922488719"
        ],
        [
         "(Timestamp('2010-10-21 00:00:00'), 'Periodo 1')",
         "1.0025538212585414"
        ],
        [
         "(Timestamp('2010-10-22 00:00:00'), 'Periodo 1')",
         "1.0121145620645553"
        ],
        [
         "(Timestamp('2010-10-25 00:00:00'), 'Periodo 1')",
         "1.0109471354087003"
        ]
       ],
       "shape": {
        "columns": 1,
        "rows": 1652
       }
      },
      "text/plain": [
       "Dates                 \n",
       "2010-08-17  Periodo 1     0.996352\n",
       "2010-08-18  Periodo 1     1.000157\n",
       "2010-08-19  Periodo 1     1.000586\n",
       "2010-08-20  Periodo 1     1.010449\n",
       "2010-08-23  Periodo 1     1.001801\n",
       "                            ...   \n",
       "2025-04-28  Periodo 28    0.626511\n",
       "2025-04-29  Periodo 28    0.623804\n",
       "2025-04-30  Periodo 28    0.620429\n",
       "2025-05-01  Periodo 28    0.645095\n",
       "2025-05-02  Periodo 28    0.653308\n",
       "Length: 1652, dtype: float64"
      ]
     },
     "execution_count": 93,
     "metadata": {},
     "output_type": "execute_result"
    },
    {
     "data": {
      "image/png": "[encoded data removed]",
      "text/plain": [
       "<Figure size 640x480 with 1 Axes>"
      ]
     },
     "metadata": {},
     "output_type": "display_data"
    }
   ],
   "source": [
    "def momentum_simple_daily(prices) -> pd.DataFrame:\n",
    "    rets = prices.pct_change()\n",
    "    log1p = np.log1p(rets)\n",
    "    cum_log = log1p.cumsum()\n",
    "    score = np.expm1(cum_log)\n",
    "    score \n",
    "    return score.iloc[-1]\n",
    "\n",
    "def rebalanciar(df):\n",
    "    ranking = momentum_simple_daily(df)\n",
    "    num_nans = ranking.isna().sum()\n",
    "\n",
    "    top = ranking.nlargest(15 + (num_nans // 2)).index.tolist()\n",
    "    last = ranking.nsmallest(15 + (num_nans // 2)).index.tolist()\n",
    "    print(\"Top\", top, \"Last\", last)\n",
    "    return top, last\n",
    "\n",
    "def portifolio(df, janela, skip, holding):\n",
    "    janelas = df.shape[0] // janela\n",
    "    retornos = []\n",
    "\n",
    "    for i in range(int(janelas)):\n",
    "        janela_start = 0 if i == 0 else max(0, (i - 1) * janela)\n",
    "        corte = min((i + 1) * janela, len(df))\n",
    "\n",
    "        top, last = rebalanciar(df.iloc[janela_start:corte])\n",
    "\n",
    "\n",
    "\n",
    "        start = corte + skip\n",
    "        end   = min(start + holding, len(df))\n",
    "        if start >= end:\n",
    "            break\n",
    "\n",
    "        retorno_top  = df.iloc[start:end][top].pct_change().iloc[1:]  \n",
    "        retorno_last = df.iloc[start:end][last].pct_change().iloc[1:] * -1\n",
    "        r = (retorno_top.mean(axis=1) + retorno_last.mean(axis=1)).to_frame(name=f\"Periodo {i+1}\")\n",
    "        retornos.append(r)\n",
    "\n",
    "    return retornos\n",
    "\n",
    "teste = portifolio(df_tri, janela=140, skip=21, holding=60)\n",
    "teste = pd.concat(teste) \n",
    "teste = teste.stack().sort_index(level=0)\n",
    "teste = (teste + 1).cumprod()\n",
    "teste.plot()\n",
    "teste\n"
   ]
  },
  {
   "cell_type": "code",
   "execution_count": 94,
   "metadata": {},
   "outputs": [
    {
     "ename": "AttributeError",
     "evalue": "'Series' object has no attribute 'stack'",
     "output_type": "error",
     "traceback": [
      "\u001b[0;31m---------------------------------------------------------------------------\u001b[0m",
      "\u001b[0;31mAttributeError\u001b[0m                            Traceback (most recent call last)",
      "\u001b[0;32m/var/folders/pm/ps47mfm943x_nqjshcjsk5ch0000gn/T/ipykernel_21951/363967819.py\u001b[0m in \u001b[0;36m?\u001b[0;34m()\u001b[0m\n\u001b[0;32m----> 1\u001b[0;31m \u001b[0mserie_unica\u001b[0m \u001b[0;34m=\u001b[0m \u001b[0mteste\u001b[0m\u001b[0;34m.\u001b[0m\u001b[0mstack\u001b[0m\u001b[0;34m(\u001b[0m\u001b[0;34m)\u001b[0m\u001b[0;34m.\u001b[0m\u001b[0msort_index\u001b[0m\u001b[0;34m(\u001b[0m\u001b[0mlevel\u001b[0m\u001b[0;34m=\u001b[0m\u001b[0;36m0\u001b[0m\u001b[0;34m)\u001b[0m\u001b[0;34m\u001b[0m\u001b[0;34m\u001b[0m\u001b[0m\n\u001b[0m\u001b[1;32m      2\u001b[0m \u001b[0;34m\u001b[0m\u001b[0m\n\u001b[1;32m      3\u001b[0m \u001b[0;31m# retorno acumulado total\u001b[0m\u001b[0;34m\u001b[0m\u001b[0;34m\u001b[0m\u001b[0m\n\u001b[1;32m      4\u001b[0m \u001b[0mret_acum_total\u001b[0m \u001b[0;34m=\u001b[0m \u001b[0;34m(\u001b[0m\u001b[0;36m1\u001b[0m \u001b[0;34m+\u001b[0m \u001b[0mserie_unica\u001b[0m\u001b[0;34m/\u001b[0m\u001b[0;36m100\u001b[0m\u001b[0;34m)\u001b[0m\u001b[0;34m.\u001b[0m\u001b[0mprod\u001b[0m\u001b[0;34m(\u001b[0m\u001b[0;34m)\u001b[0m \u001b[0;34m-\u001b[0m \u001b[0;36m1\u001b[0m\u001b[0;34m\u001b[0m\u001b[0;34m\u001b[0m\u001b[0m\n",
      "\u001b[0;32m/opt/homebrew/lib/python3.10/site-packages/pandas/core/generic.py\u001b[0m in \u001b[0;36m?\u001b[0;34m(self, name)\u001b[0m\n\u001b[1;32m   6295\u001b[0m             \u001b[0;32mand\u001b[0m \u001b[0mname\u001b[0m \u001b[0;32mnot\u001b[0m \u001b[0;32min\u001b[0m \u001b[0mself\u001b[0m\u001b[0;34m.\u001b[0m\u001b[0m_accessors\u001b[0m\u001b[0;34m\u001b[0m\u001b[0;34m\u001b[0m\u001b[0m\n\u001b[1;32m   6296\u001b[0m             \u001b[0;32mand\u001b[0m \u001b[0mself\u001b[0m\u001b[0;34m.\u001b[0m\u001b[0m_info_axis\u001b[0m\u001b[0;34m.\u001b[0m\u001b[0m_can_hold_identifiers_and_holds_name\u001b[0m\u001b[0;34m(\u001b[0m\u001b[0mname\u001b[0m\u001b[0;34m)\u001b[0m\u001b[0;34m\u001b[0m\u001b[0;34m\u001b[0m\u001b[0m\n\u001b[1;32m   6297\u001b[0m         ):\n\u001b[1;32m   6298\u001b[0m             \u001b[0;32mreturn\u001b[0m \u001b[0mself\u001b[0m\u001b[0;34m[\u001b[0m\u001b[0mname\u001b[0m\u001b[0;34m]\u001b[0m\u001b[0;34m\u001b[0m\u001b[0;34m\u001b[0m\u001b[0m\n\u001b[0;32m-> 6299\u001b[0;31m         \u001b[0;32mreturn\u001b[0m \u001b[0mobject\u001b[0m\u001b[0;34m.\u001b[0m\u001b[0m__getattribute__\u001b[0m\u001b[0;34m(\u001b[0m\u001b[0mself\u001b[0m\u001b[0;34m,\u001b[0m \u001b[0mname\u001b[0m\u001b[0;34m)\u001b[0m\u001b[0;34m\u001b[0m\u001b[0;34m\u001b[0m\u001b[0m\n\u001b[0m",
      "\u001b[0;31mAttributeError\u001b[0m: 'Series' object has no attribute 'stack'"
     ]
    }
   ],
   "source": [
    "serie_unica = teste.stack().sort_index(level=0)\n",
    "\n",
    "# retorno acumulado total\n",
    "ret_acum_total = (1 + serie_unica/100).prod() - 1\n",
    "\n",
    "print(\"Retorno acumulado total:\", f\"{ret_acum_total:.2%}\")\n"
   ]
  },
  {
   "cell_type": "code",
   "execution_count": null,
   "metadata": {},
   "outputs": [
    {
     "data": {
      "text/plain": [
       "Dates                 \n",
       "2014-08-15  Periodo 1     0.998109\n",
       "2014-08-18  Periodo 1     0.995843\n",
       "2014-08-19  Periodo 1     0.990582\n",
       "2014-08-20  Periodo 1     0.995840\n",
       "2014-08-21  Periodo 1     0.992906\n",
       "                            ...   \n",
       "2023-12-14  Periodo 18    1.063898\n",
       "2023-12-15  Periodo 18    1.069464\n",
       "2023-12-18  Periodo 18    1.069366\n",
       "2023-12-19  Periodo 18    1.072189\n",
       "2023-12-20  Periodo 18    1.069544\n",
       "Length: 1062, dtype: float64"
      ]
     },
     "execution_count": 75,
     "metadata": {},
     "output_type": "execute_result"
    }
   ],
   "source": [
    "serie_unica"
   ]
  },
  {
   "cell_type": "markdown",
   "metadata": {},
   "source": [
    "Cross-sectional Momentum\n",
    "\n",
    " Rank assets by measures of past performance: lookback period\n",
    "\n",
    " \n",
    " Buy winners and short losers\n",
    " \n",
    " Hold assets for a pre-defined periods: holding period\n",
    " \n",
    " Symmetric: buy and sell same number of assets or at least same \n",
    "notional"
   ]
  },
  {
   "cell_type": "markdown",
   "metadata": {},
   "source": [
    "Time-series Momentum\n",
    "\n",
    " Analyze performance of each asset individually with same metric: \n",
    "lookback period\n",
    "\n",
    " Buy winners and short losers\n",
    "\n",
    " Hold assets for a pre-defined periods: holding period\n",
    "\n",
    " Assymmetric: you may even buy all assets or sell all assets\n",
    "\n"
   ]
  },
  {
   "cell_type": "markdown",
   "metadata": {},
   "source": []
  }
 ],
 "metadata": {
  "kernelspec": {
   "display_name": "Python 3",
   "language": "python",
   "name": "python3"
  },
  "language_info": {
   "codemirror_mode": {
    "name": "ipython",
    "version": 3
   },
   "file_extension": ".py",
   "mimetype": "text/x-python",
   "name": "python",
   "nbconvert_exporter": "python",
   "pygments_lexer": "ipython3",
   "version": "3.10.18"
  }
 },
 "nbformat": 4,
 "nbformat_minor": 2
}
